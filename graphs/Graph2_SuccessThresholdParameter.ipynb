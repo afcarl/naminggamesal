{
 "cells": [
  {
   "cell_type": "code",
   "execution_count": 1,
   "metadata": {
    "collapsed": true
   },
   "outputs": [],
   "source": [
    "import sys\n",
    "sys.path.append('..')\n",
    "%matplotlib inline"
   ]
  },
  {
   "cell_type": "markdown",
   "metadata": {},
   "source": [
    "#Convergence speed comparison according to Success Threshold parameter"
   ]
  },
  {
   "cell_type": "code",
   "execution_count": 2,
   "metadata": {
    "collapsed": true
   },
   "outputs": [],
   "source": [
    "from lib import ngdb"
   ]
  },
  {
   "cell_type": "code",
   "execution_count": 3,
   "metadata": {
    "collapsed": true
   },
   "outputs": [],
   "source": [
    "db=ngdb.NamingGamesDB(\"graph2.db\")"
   ]
  },
  {
   "cell_type": "code",
   "execution_count": 4,
   "metadata": {
    "collapsed": true
   },
   "outputs": [],
   "source": [
    "def xp_cfg_thresh(i):\n",
    "    return {\n",
    "    'pop_cfg':{\n",
    "        'voc_cfg':{\n",
    "            'voc_type':'sparse_matrix',\n",
    "            'M':10,\n",
    "            'W':10\n",
    "            },\n",
    "        'strat_cfg':{\n",
    "            'strat_type':'success_threshold',\n",
    "            'threshold_explo':i\n",
    "            },\n",
    "        'nbagent':10\n",
    "        },\n",
    "    'step':10\n",
    "}"
   ]
  },
  {
   "cell_type": "code",
   "execution_count": 5,
   "metadata": {
    "collapsed": true
   },
   "outputs": [],
   "source": [
    "nb_iter = 2\n",
    "values = [0.2, 0.8]"
   ]
  },
  {
   "cell_type": "code",
   "execution_count": null,
   "metadata": {
    "collapsed": true
   },
   "outputs": [],
   "source": [
    "threshold = values[0]\n",
    "\n",
    "graph_list = []\n",
    "uuid_list = []\n",
    "for i in nb_iter:\n",
    "    exp = db.get_experiment(blacklist=uuid_list, **xp_cfg)\n",
    "    uuid_list.append(exp.uuid)\n",
    "    graph_list.append(exp.graph)"
   ]
  }
 ],
 "metadata": {
  "kernelspec": {
   "display_name": "Python 2",
   "language": "python",
   "name": "python2"
  },
  "language_info": {
   "codemirror_mode": {
    "name": "ipython",
    "version": 2
   },
   "file_extension": ".py",
   "mimetype": "text/x-python",
   "name": "python",
   "nbconvert_exporter": "python",
   "pygments_lexer": "ipython2",
   "version": "2.7.6"
  }
 },
 "nbformat": 4,
 "nbformat_minor": 0
}
