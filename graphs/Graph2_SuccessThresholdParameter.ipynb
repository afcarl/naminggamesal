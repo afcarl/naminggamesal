{
 "cells": [
  {
   "cell_type": "code",
   "execution_count": 1,
   "metadata": {
    "collapsed": true
   },
   "outputs": [],
   "source": [
    "import sys\n",
    "sys.path.append('..')\n",
    "%matplotlib inline"
   ]
  },
  {
   "cell_type": "markdown",
   "metadata": {},
   "source": [
    "#Convergence speed comparison according to Success Threshold parameter\n",
    "\n",
    "The Success threshold Strategy depends on a meta-parameter, the value of the threshold. We will here compare the convergence status (defined by the information theoretic measure introduced in the paper) against this threshold parameter, at different times."
   ]
  },
  {
   "cell_type": "code",
   "execution_count": 2,
   "metadata": {
    "collapsed": false
   },
   "outputs": [],
   "source": [
    "from lib import ngdb\n",
    "import numpy as np\n",
    "from additional import custom_graph\n",
    "import seaborn as sns"
   ]
  },
  {
   "cell_type": "code",
   "execution_count": 3,
   "metadata": {
    "collapsed": true
   },
   "outputs": [],
   "source": [
    "db=ngdb.NamingGamesDB(\"graph2.db\")"
   ]
  },
  {
   "cell_type": "markdown",
   "metadata": {},
   "source": [
    "Here the configuration depends on the parameter:"
   ]
  },
  {
   "cell_type": "code",
   "execution_count": 4,
   "metadata": {
    "collapsed": true
   },
   "outputs": [],
   "source": [
    "def xp_cfg_thresh(i):\n",
    "    return {\n",
    "    'pop_cfg':{\n",
    "        'voc_cfg':{\n",
    "            'voc_type':'sparse_matrix',\n",
    "            'M':20,\n",
    "            'W':20\n",
    "            },\n",
    "        'strat_cfg':{\n",
    "            'strat_type':'success_threshold',\n",
    "            'threshold_explo':i\n",
    "            },\n",
    "        'nbagent':20\n",
    "        },\n",
    "    'step':500\n",
    "    }"
   ]
  },
  {
   "cell_type": "code",
   "execution_count": 5,
   "metadata": {
    "collapsed": false
   },
   "outputs": [],
   "source": [
    "nb_iter = 8\n",
    "values = np.linspace(0,1,21)\n",
    "Tmax = [500, 1000, 2000, 10000]\n",
    "measure = 'entropycouples_norm'"
   ]
  },
  {
   "cell_type": "markdown",
   "metadata": {},
   "source": [
    "We generate a dict object of experiments"
   ]
  },
  {
   "cell_type": "code",
   "execution_count": null,
   "metadata": {
    "collapsed": false
   },
   "outputs": [
    {
     "name": "stderr",
     "output_type": "stream",
     "text": [
      "/usr/local/lib/python2.7/dist-packages/numpy/core/fromnumeric.py:2507: VisibleDeprecationWarning: `rank` is deprecated; use the `ndim` attribute or function instead. To find the rank of a matrix see `numpy.linalg.matrix_rank`.\n",
      "  VisibleDeprecationWarning)\n"
     ]
    }
   ],
   "source": [
    "exp_dict = {}\n",
    "for v in values:\n",
    "    exp_dict[v]=[]\n",
    "    uuid_list=[]\n",
    "    for i in range(nb_iter):\n",
    "        tempexp = db.get_experiment(blacklist=uuid_list, tmax=Tmax[-1], **xp_cfg_thresh(v))\n",
    "        exp_dict[v].append(tempexp)\n",
    "        uuid_list.append(tempexp.uuid)"
   ]
  },
  {
   "cell_type": "markdown",
   "metadata": {},
   "source": [
    "We define the procedure to graph what we want, and test it for the first value of T:"
   ]
  },
  {
   "cell_type": "code",
   "execution_count": null,
   "metadata": {
    "collapsed": false
   },
   "outputs": [],
   "source": [
    "def get_graph(T):\n",
    "    Ytemp = []\n",
    "    stdtemp = []\n",
    "    ind = 0\n",
    "    Ttemp=[0]\n",
    "    for v in values:\n",
    "        templist = []\n",
    "        for i in range(nb_iter):\n",
    "            tempexp = exp_dict[v][i]\n",
    "            tempexp.continue_exp_until(T)\n",
    "            if ind == 0:\n",
    "                Ttemp = exp_dict[values[0]][0]._T\n",
    "                while T > Ttemp[ind]:\n",
    "                    ind+=1\n",
    "            templist.append(tempexp.graph(measure)._Y[0][ind])\n",
    "        Ytemp.append(np.mean(templist))\n",
    "        stdtemp.append(np.std(templist))\n",
    "    return custom_graph.CustomGraph(values, Ytemp, stdvec=stdtemp)\n",
    "\n",
    "graph = get_graph(Tmax[0])\n",
    "graph.std = 1\n",
    "graph.show()"
   ]
  },
  {
   "cell_type": "markdown",
   "metadata": {},
   "source": [
    "We then graph the other values, combine them to the previous graph, and plot everything:"
   ]
  },
  {
   "cell_type": "code",
   "execution_count": null,
   "metadata": {
    "collapsed": false
   },
   "outputs": [],
   "source": [
    "for T in Tmax[1:]: \n",
    "    graph.add_graph(get_graph(T))\n",
    "graph.show()"
   ]
  },
  {
   "cell_type": "code",
   "execution_count": null,
   "metadata": {
    "collapsed": true
   },
   "outputs": [],
   "source": [
    "graph._Y = list(reversed(graph._Y)) # Execute just once. This is for presentation style only (see effect on legend).\n",
    "graph.stdvec = list(reversed(graph.stdvec))\n",
    "Tmax = list(reversed(Tmax))"
   ]
  },
  {
   "cell_type": "code",
   "execution_count": null,
   "metadata": {
    "collapsed": false
   },
   "outputs": [],
   "source": [
    "graph.title = ''\n",
    "graph.xlabel = 'Threshold Parameter'\n",
    "graph.ylabel = 'Normalized Information'\n",
    "graph.ymin = [1,0]\n",
    "graph.ymax = [1,1]\n",
    "\n",
    "for i in range(len(graph.Yoptions)):\n",
    "    graph.Yoptions[i] = {'label':'T={}'.format(str(Tmax[i]))}\n",
    "    \n",
    "graph.Yoptions[0]['color'] = 'black'\n",
    "graph.Yoptions[1]['color'] = sns.color_palette()[1]\n",
    "graph.Yoptions[2]['color'] = sns.color_palette()[2]\n",
    "#graph.Yoptions[3]['color'] = sns.color_palette()[0]\n",
    "    \n",
    "graph.legendoptions['bbox_to_anchor'] = (0,0,0.5,1)\n",
    "\n",
    "graph.show()"
   ]
  },
  {
   "cell_type": "markdown",
   "metadata": {
    "collapsed": false
   },
   "source": [
    "Convergence speed comparison according to threshold parameter, for the success-threshold strategy. The previously selected value of 90\\% is well-chosen. $M$=$W$=$N$=20, 8 iterations. Time unit is number of past interactions."
   ]
  },
  {
   "cell_type": "code",
   "execution_count": null,
   "metadata": {
    "collapsed": true
   },
   "outputs": [],
   "source": []
  }
 ],
 "metadata": {
  "kernelspec": {
   "display_name": "Python 2",
   "language": "python",
   "name": "python2"
  },
  "language_info": {
   "codemirror_mode": {
    "name": "ipython",
    "version": 2
   },
   "file_extension": ".py",
   "mimetype": "text/x-python",
   "name": "python",
   "nbconvert_exporter": "python",
   "pygments_lexer": "ipython2",
   "version": "2.7.6"
  }
 },
 "nbformat": 4,
 "nbformat_minor": 0
}
