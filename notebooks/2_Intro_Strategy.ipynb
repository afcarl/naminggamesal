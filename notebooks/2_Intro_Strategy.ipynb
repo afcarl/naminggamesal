{
 "cells": [
  {
   "cell_type": "code",
   "execution_count": 20,
   "metadata": {
    "collapsed": false
   },
   "outputs": [],
   "source": [
    "import sys\n",
    "import seaborn as sns\n",
    "import random\n",
    "sys.path.append(\"..\")\n",
    "%matplotlib inline\n",
    "sns.set(rc={'image.cmap': 'Purples_r'})"
   ]
  },
  {
   "cell_type": "markdown",
   "metadata": {},
   "source": [
    "## Strategies\n",
    "The strategy object describes the behaviour of an agent, given its vocabulary. The main algorithms that vary among strategies are:\n",
    "* how to choose a link (meaning-word) to enact, \n",
    "* how to guess a meaning from a word\n",
    "* how to update the vocabulary"
   ]
  },
  {
   "cell_type": "code",
   "execution_count": 21,
   "metadata": {
    "collapsed": false
   },
   "outputs": [],
   "source": [
    "import naminggamesal.ngstrat as ngstrat\n",
    "import naminggamesal.ngvoc as ngvoc"
   ]
  },
  {
   "cell_type": "markdown",
   "metadata": {},
   "source": [
    "Let's create a strategy. We will also need two vocabularies to work on (speaker and hearer). (more info on other strategy types: Design_newStrategy.ipynb)"
   ]
  },
  {
   "cell_type": "code",
   "execution_count": 210,
   "metadata": {
    "collapsed": false
   },
   "outputs": [
    {
     "name": "stdout",
     "output_type": "stream",
     "text": [
      "Speaker:\n",
      "                          Words\n",
      "        [[ 0.  0.  0.  0.  0.  0.  0.  0.  0.  0.]\n",
      "         [ 0.  0.  0.  0.  0.  0.  0.  0.  0.  0.]\n",
      "Meanings [ 0.  0.  0.  0.  0.  0.  0.  0.  0.  0.]\n",
      "         [ 0.  0.  0.  0.  0.  0.  0.  0.  0.  0.]\n",
      "         [ 0.  0.  0.  0.  0.  0.  0.  0.  0.  0.]]\n",
      "\n",
      " \n",
      "Hearer:\n",
      "                          Words\n",
      "        [[ 0.  0.  0.  0.  0.  0.  0.  0.  0.  0.]\n",
      "         [ 0.  0.  0.  0.  0.  0.  0.  0.  0.  0.]\n",
      "Meanings [ 0.  0.  0.  0.  0.  0.  0.  0.  0.  0.]\n",
      "         [ 0.  0.  0.  0.  0.  0.  0.  0.  0.  0.]\n",
      "         [ 0.  0.  0.  0.  0.  0.  0.  0.  0.  0.]]\n",
      "\n"
     ]
    }
   ],
   "source": [
    "\n",
    "M = 5\n",
    "W = 10\n",
    "voc_cfg = {\n",
    "    'voc_type':'matrix',\n",
    "    'M':M,\n",
    "    'W':W\n",
    "    }\n",
    "\n",
    "nlink = 0\n",
    "\n",
    "voctest_speaker = ngvoc.Vocabulary(**voc_cfg)\n",
    "for i in range(0, nlink):\n",
    "    voctest_speaker.add(random.randint(0,M-1), random.randint(0,W-1), 0.2)\n",
    "    \n",
    "voctest_hearer=ngvoc.Vocabulary(**voc_cfg)\n",
    "for i in range(0, nlink):\n",
    "    voctest_hearer.add(random.randint(0,M-1), random.randint(0,W-1), 0.2)\n",
    "\n",
    "print(\"Speaker:\")\n",
    "print(voctest_speaker)\n",
    "print(\" \")\n",
    "print(\"Hearer:\")\n",
    "print(voctest_hearer)"
   ]
  },
  {
   "cell_type": "code",
   "execution_count": 211,
   "metadata": {
    "collapsed": false
   },
   "outputs": [
    {
     "data": {
      "text/plain": [
       "<naminggamesal.ngstrat.success_threshold.StratSuccessThresholdEpirob at 0x7fc2f5f67790>"
      ]
     },
     "execution_count": 211,
     "metadata": {},
     "output_type": "execute_result"
    }
   ],
   "source": [
    "strat_cfg={\"strat_type\":\"success_threshold_epirob\",'vu_cfg':{'vu_type':'BLIS'},}\n",
    "\n",
    "teststrat=ngstrat.Strategy(**strat_cfg)\n",
    "teststrat"
   ]
  },
  {
   "cell_type": "markdown",
   "metadata": {},
   "source": [
    "Now that we have a strategy, we can test the different functions. Exec\n",
    "\n",
    "!! Vocabularies are modified, but this way you can observe progressive growth of the number of links !!"
   ]
  },
  {
   "cell_type": "code",
   "execution_count": 262,
   "metadata": {
    "collapsed": false
   },
   "outputs": [
    {
     "name": "stdout",
     "output_type": "stream",
     "text": [
      "Initial vocabulary of the speaker:\n",
      "                               Words\n",
      "        [[ 0.   0.   0.   0.   0.   0.   0.   0.   0.   0.9]\n",
      "         [ 0.   0.   0.   0.   1.   0.   0.   0.   0.   0. ]\n",
      "Meanings [ 0.   0.   0.   0.   0.   0.   0.   0.   1.   0. ]\n",
      "         [ 1.   0.   0.   0.   0.   0.   0.   0.   0.   0. ]\n",
      "         [ 0.   0.   0.   0.   0.   0.   1.   0.   0.   0. ]]\n",
      "\n",
      " \n",
      "Initial vocabulary of the hearer:\n",
      "                               Words\n",
      "        [[ 0.   0.   0.   0.   0.   0.   0.   0.   0.   0.9]\n",
      "         [ 0.   0.   0.   0.   1.   0.   0.   0.   0.   0. ]\n",
      "Meanings [ 0.   0.   0.   0.   0.   0.   0.   0.   1.   0. ]\n",
      "         [ 1.   0.   0.   0.   0.   0.   0.   0.   0.   0. ]\n",
      "         [ 0.   0.   0.   0.   0.   0.   1.   0.   0.   0. ]]\n",
      "\n",
      " \n",
      "Meaning chosen by speaker:\n",
      "0\n",
      " \n",
      "Word uttered by speaker:\n",
      "9\n",
      " \n",
      "Meaning interpreted by hearer:\n",
      "0\n",
      " \n",
      "Success!\n",
      " \n",
      "Updated vocabulary of the speaker:\n",
      "                          Words\n",
      "        [[ 0.  0.  0.  0.  0.  0.  0.  0.  0.  1.]\n",
      "         [ 0.  0.  0.  0.  1.  0.  0.  0.  0.  0.]\n",
      "Meanings [ 0.  0.  0.  0.  0.  0.  0.  0.  1.  0.]\n",
      "         [ 1.  0.  0.  0.  0.  0.  0.  0.  0.  0.]\n",
      "         [ 0.  0.  0.  0.  0.  0.  1.  0.  0.  0.]]\n",
      "\n",
      " \n",
      "Updated vocabulary of the hearer:\n",
      "                          Words\n",
      "        [[ 0.  0.  0.  0.  0.  0.  0.  0.  0.  1.]\n",
      "         [ 0.  0.  0.  0.  1.  0.  0.  0.  0.  0.]\n",
      "Meanings [ 0.  0.  0.  0.  0.  0.  0.  0.  1.  0.]\n",
      "         [ 1.  0.  0.  0.  0.  0.  0.  0.  0.  0.]\n",
      "         [ 0.  0.  0.  0.  0.  0.  1.  0.  0.  0.]]\n",
      "\n"
     ]
    }
   ],
   "source": [
    "memory_s=teststrat.init_memory(voctest_speaker) #Not important for the naive strategy, here it simply is {}\n",
    "memory_h=teststrat.init_memory(voctest_hearer)\n",
    "\n",
    "print(\"Initial vocabulary of the speaker:\")\n",
    "print(voctest_speaker)\n",
    "print(\" \")\n",
    "print(\"Initial vocabulary of the hearer:\")\n",
    "print(voctest_hearer)\n",
    "print(\" \")\n",
    "\n",
    "ms=teststrat.pick_m(voctest_speaker,memory_s,context=[])\n",
    "print(\"Meaning chosen by speaker:\")\n",
    "print(ms)\n",
    "print (\" \")\n",
    "\n",
    "w=teststrat.pick_w(voc=voctest_speaker,mem=memory_s,m=ms,context=[])\n",
    "print(\"Word uttered by speaker:\")\n",
    "print(w)\n",
    "print (\" \")\n",
    "\n",
    "mh=teststrat.guess_m(w,voctest_hearer,memory_h,context=[])\n",
    "print(\"Meaning interpreted by hearer:\")\n",
    "print(mh)\n",
    "print (\" \")\n",
    "\n",
    "if (ms==mh):\n",
    "    print(\"Success!\")\n",
    "    \n",
    "    bool_succ = 1\n",
    "else:\n",
    "    bool_succ = 0\n",
    "    print(\"Failure!\")\n",
    "print(\" \")\n",
    "\n",
    "teststrat.update_speaker(ms,w,mh,voctest_speaker,memory_s,bool_succ)\n",
    "teststrat.update_hearer(ms,w,mh,voctest_hearer,memory_h,bool_succ)\n",
    "\n",
    "print(\"Updated vocabulary of the speaker:\")\n",
    "print(voctest_speaker)\n",
    "print(\" \")\n",
    "print(\"Updated vocabulary of the hearer:\")\n",
    "print(voctest_hearer)"
   ]
  },
  {
   "cell_type": "markdown",
   "metadata": {},
   "source": [
    "\n",
    "\n",
    "Here you can modify by hand the 2 vocabularies before re-executing the code:"
   ]
  },
  {
   "cell_type": "code",
   "execution_count": 19,
   "metadata": {
    "collapsed": false
   },
   "outputs": [
    {
     "name": "stdout",
     "output_type": "stream",
     "text": [
      "Speaker:\n",
      "                               Words\n",
      "        [[ 0.   0.   0.   0.   0.   0.   0.   0.   0.   0. ]\n",
      "         [ 0.   0.   0.   0.   0.   0.   0.   0.   0.   0. ]\n",
      "Meanings [ 0.   0.   0.   0.   1.   0.   0.   0.   0.   0. ]\n",
      "         [ 0.2  0.   0.   0.   0.   0.   0.   0.   0.   0. ]\n",
      "         [ 0.   0.   0.   0.   0.   0.   0.   0.   0.   0. ]]\n",
      "\n",
      " \n",
      "Hearer:\n",
      "                               Words\n",
      "        [[ 0.   0.   0.   0.   0.   0.   0.   0.   0.   0. ]\n",
      "         [ 0.   0.   0.   0.   0.   0.   0.   0.   0.   0. ]\n",
      "Meanings [ 0.   0.   0.   0.   1.   0.   0.   0.   0.   0. ]\n",
      "         [ 0.   0.   0.   0.   0.   0.   0.   0.   0.   0. ]\n",
      "         [ 0.   0.   0.   0.   0.   0.   0.2  0.   0.   0. ]]\n",
      "\n"
     ]
    }
   ],
   "source": [
    "#voctest_speaker.add(0,0,1)\n",
    "#voctest_speaker.add(0,0,0)\n",
    "\n",
    "#voctest_hearer.add(0,0,1)\n",
    "#voctest_hearer.add(0,0,0)\n",
    "\n",
    "print(\"Speaker:\")\n",
    "print(voctest_speaker)\n",
    "print(\" \")\n",
    "print(\"Hearer:\")\n",
    "print(voctest_hearer)"
   ]
  },
  {
   "cell_type": "markdown",
   "metadata": {},
   "source": [
    "Approximation of the probability density of the different procedures of the strategy:"
   ]
  },
  {
   "cell_type": "code",
   "execution_count": 42,
   "metadata": {
    "collapsed": false
   },
   "outputs": [
    {
     "name": "stdout",
     "output_type": "stream",
     "text": [
      "                          Words\n",
      "        [[ 0.  0.  0.  0.  0.  0.  0.  0.  1.  0.]\n",
      "         [ 0.  0.  0.  0.  0.  0.  0.  0.  0.  0.]\n",
      "Meanings [ 0.  0.  0.  0.  0.  1.  0.  0.  0.  0.]\n",
      "         [ 0.  0.  0.  1.  0.  0.  0.  0.  0.  0.]\n",
      "         [ 0.  0.  0.  0.  0.  0.  0.  1.  0.  0.]]\n",
      "\n"
     ]
    },
    {
     "data": {
      "image/png": "[encoded data removed]",
      "text/plain": [
       "<matplotlib.figure.Figure at 0x7fd734697550>"
      ]
     },
     "metadata": {},
     "output_type": "display_data"
    }
   ],
   "source": [
    "voctest_speaker.visual()\n",
    "teststrat.visual(voc=voctest_speaker,mem=memory_s,vtype=\"pick_m\",iterr=500)"
   ]
  },
  {
   "cell_type": "code",
   "execution_count": 43,
   "metadata": {
    "collapsed": false
   },
   "outputs": [
    {
     "name": "stdout",
     "output_type": "stream",
     "text": [
      "                          Words\n",
      "        [[ 0.  0.  0.  0.  0.  0.  0.  0.  1.  0.]\n",
      "         [ 0.  0.  0.  0.  0.  0.  0.  0.  0.  0.]\n",
      "Meanings [ 0.  0.  0.  0.  0.  1.  0.  0.  0.  0.]\n",
      "         [ 0.  0.  0.  1.  0.  0.  0.  0.  0.  0.]\n",
      "         [ 0.  0.  0.  0.  0.  0.  0.  1.  0.  0.]]\n",
      "\n"
     ]
    },
    {
     "data": {
      "image/png": "[encoded data removed]",
      "text/plain": [
       "<matplotlib.figure.Figure at 0x7fd734595d90>"
      ]
     },
     "metadata": {},
     "output_type": "display_data"
    }
   ],
   "source": [
    "voctest_speaker.visual()\n",
    "teststrat.visual(voc=voctest_speaker,mem=memory_s,vtype=\"pick_mw\",iterr=500)"
   ]
  },
  {
   "cell_type": "code",
   "execution_count": 44,
   "metadata": {
    "collapsed": false
   },
   "outputs": [
    {
     "name": "stdout",
     "output_type": "stream",
     "text": [
      "                          Words\n",
      "        [[ 0.  0.  0.  0.  0.  0.  0.  0.  1.  0.]\n",
      "         [ 0.  0.  0.  0.  0.  0.  0.  0.  0.  0.]\n",
      "Meanings [ 0.  0.  0.  0.  0.  1.  0.  0.  0.  0.]\n",
      "         [ 0.  0.  0.  1.  0.  0.  0.  0.  0.  0.]\n",
      "         [ 0.  0.  0.  0.  0.  0.  0.  1.  0.  0.]]\n",
      "\n"
     ]
    },
    {
     "data": {
      "image/png": "[encoded data removed]",
      "text/plain": [
       "<matplotlib.figure.Figure at 0x7fd734761210>"
      ]
     },
     "metadata": {},
     "output_type": "display_data"
    }
   ],
   "source": [
    "voctest_speaker.visual()\n",
    "teststrat.visual(voc=voctest_speaker,mem=memory_s,vtype=\"pick_w\",iterr=500)"
   ]
  },
  {
   "cell_type": "code",
   "execution_count": 17,
   "metadata": {
    "collapsed": false
   },
   "outputs": [
    {
     "name": "stdout",
     "output_type": "stream",
     "text": [
      "                          Words\n",
      "        [[ 0.  0.  1.  0.  0.  0.  0.  0.  0.  0.]\n",
      "         [ 0.  0.  0.  0.  0.  0.  0.  0.  0.  0.]\n",
      "Meanings [ 1.  0.  0.  0.  0.  0.  0.  0.  0.  0.]\n",
      "         [ 0.  0.  0.  0.  0.  0.  0.  0.  0.  0.]\n",
      "         [ 0.  0.  0.  0.  0.  0.  0.  0.  0.  0.]]\n",
      "\n"
     ]
    },
    {
     "data": {
      "image/png": "[encoded data removed]",
      "text/plain": [
       "<matplotlib.figure.Figure at 0x7fd7349e3ed0>"
      ]
     },
     "metadata": {},
     "output_type": "display_data"
    }
   ],
   "source": [
    "voctest_hearer.visual()\n",
    "teststrat.visual(voc=voctest_hearer,mem=memory_h,vtype=\"guess_m\",iterr=500)"
   ]
  },
  {
   "cell_type": "code",
   "execution_count": null,
   "metadata": {
    "collapsed": true
   },
   "outputs": [],
   "source": []
  },
  {
   "cell_type": "code",
   "execution_count": null,
   "metadata": {
    "collapsed": false
   },
   "outputs": [],
   "source": []
  },
  {
   "cell_type": "code",
   "execution_count": null,
   "metadata": {
    "collapsed": true
   },
   "outputs": [],
   "source": []
  },
  {
   "cell_type": "code",
   "execution_count": 16,
   "metadata": {
    "collapsed": false
   },
   "outputs": [
    {
     "data": {
      "text/plain": [
       "<naminggamesal.ngstrat.voc_update.imitation.Imitation at 0x7fc2f5dc3610>"
      ]
     },
     "execution_count": 16,
     "metadata": {},
     "output_type": "execute_result"
    }
   ],
   "source": [
    "dir(teststrat)\n",
    "teststrat.voc_update"
   ]
  },
  {
   "cell_type": "code",
   "execution_count": null,
   "metadata": {
    "collapsed": true
   },
   "outputs": [],
   "source": []
  },
  {
   "cell_type": "code",
   "execution_count": null,
   "metadata": {
    "collapsed": true
   },
   "outputs": [],
   "source": []
  }
 ],
 "metadata": {
  "kernelspec": {
   "display_name": "Python 2",
   "language": "python",
   "name": "python2"
  },
  "language_info": {
   "codemirror_mode": {
    "name": "ipython",
    "version": 2
   },
   "file_extension": ".py",
   "mimetype": "text/x-python",
   "name": "python",
   "nbconvert_exporter": "python",
   "pygments_lexer": "ipython2",
   "version": "2.7.6"
  }
 },
 "nbformat": 4,
 "nbformat_minor": 0
}
