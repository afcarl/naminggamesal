{
 "cells": [
  {
   "cell_type": "code",
   "execution_count": 1,
   "metadata": {
    "collapsed": true
   },
   "outputs": [],
   "source": [
    "import sys\n",
    "import seaborn as sns\n",
    "sys.path.append(\"..\")\n",
    "%matplotlib inline\n",
    "sns.set(rc={'image.cmap': 'Purples_r'})"
   ]
  },
  {
   "cell_type": "markdown",
   "metadata": {},
   "source": [
    "##Strategies\n",
    "The strategy object describes the behaviour of an agent, given its vocabulary. The main algorithms that vary among strategies are:\n",
    "* how to choose a link (meaning-word) to enact, \n",
    "* how to guess a meaning from a word\n",
    "* how to update the vocabulary"
   ]
  },
  {
   "cell_type": "code",
   "execution_count": 2,
   "metadata": {
    "collapsed": false
   },
   "outputs": [],
   "source": [
    "import lib.ngstrat as ngstrat\n",
    "import lib.ngvoc as ngvoc"
   ]
  },
  {
   "cell_type": "markdown",
   "metadata": {},
   "source": [
    "Let's create a strategy. We will also need two vocabularies to work on (speaker and hearer). (more info on other strategy types: Design_newStrategy.ipynb)"
   ]
  },
  {
   "cell_type": "code",
   "execution_count": 3,
   "metadata": {
    "collapsed": false
   },
   "outputs": [
    {
     "name": "stdout",
     "output_type": "stream",
     "text": [
      "Speaker:\n",
      "                          Words\n",
      "        [[ 0.  0.  0.  0.  0.  0.  0.  0.  0.  0.]\n",
      "         [ 0.  0.  0.  0.  0.  0.  0.  0.  0.  0.]\n",
      "Meanings [ 0.  0.  0.  0.  0.  0.  0.  0.  0.  0.]\n",
      "         [ 0.  0.  0.  0.  0.  0.  0.  0.  0.  0.]\n",
      "         [ 0.  0.  0.  0.  0.  0.  0.  0.  0.  0.]]\n",
      "\n",
      " \n",
      "Hearer:\n",
      "                          Words\n",
      "        [[ 0.  0.  0.  0.  0.  0.  0.  0.  0.  0.]\n",
      "         [ 0.  0.  0.  0.  0.  0.  0.  0.  0.  0.]\n",
      "Meanings [ 0.  0.  0.  0.  0.  0.  0.  0.  0.  0.]\n",
      "         [ 0.  0.  0.  0.  0.  0.  0.  0.  0.  0.]\n",
      "         [ 0.  0.  0.  0.  0.  0.  0.  0.  0.  0.]]\n",
      "\n"
     ]
    }
   ],
   "source": [
    "M=5\n",
    "W=10\n",
    "\n",
    "voctype=\"sparse_matrix\"\n",
    "nlink=0\n",
    "\n",
    "voctest_speaker=ngvoc.voc_class[voctype](M=M,W=W)\n",
    "for i in range(0,nlink):\n",
    "    voctest_speaker.add(random.randint(0,M-1),random.randint(0,W-1),1)\n",
    "    \n",
    "voctest_hearer=ngvoc.voc_class[voctype](M=M,W=W)\n",
    "for i in range(0,nlink):\n",
    "    voctest_hearer.add(random.randint(0,M-1),random.randint(0,W-1),1)\n",
    "\n",
    "print(\"Speaker:\")\n",
    "print(voctest_speaker)\n",
    "print(\" \")\n",
    "print(\"Hearer:\")\n",
    "print(voctest_hearer)"
   ]
  },
  {
   "cell_type": "code",
   "execution_count": 4,
   "metadata": {
    "collapsed": false
   },
   "outputs": [
    {
     "data": {
      "text/plain": [
       "<lib.ngstrat.StratNaiveReal at 0xad5d1f8c>"
      ]
     },
     "execution_count": 4,
     "metadata": {},
     "output_type": "execute_result"
    }
   ],
   "source": [
    "strat={\"strattype\":\"naivereal\"}\n",
    "\n",
    "teststrat=ngstrat.Strategy(strat)\n",
    "teststrat"
   ]
  },
  {
   "cell_type": "markdown",
   "metadata": {},
   "source": [
    "Now that we have a strategy, we can test the different functions. Exec\n",
    "\n",
    "!! Vocabularies are modified, but this way you can observe progressive growth of the number of links !!"
   ]
  },
  {
   "cell_type": "code",
   "execution_count": 5,
   "metadata": {
    "collapsed": false
   },
   "outputs": [
    {
     "name": "stdout",
     "output_type": "stream",
     "text": [
      "Initial vocabulary of the speaker:\n",
      "                          Words\n",
      "        [[ 0.  0.  0.  0.  0.  0.  0.  0.  0.  0.]\n",
      "         [ 0.  0.  0.  0.  0.  0.  0.  0.  0.  0.]\n",
      "Meanings [ 0.  0.  0.  0.  0.  0.  0.  0.  0.  0.]\n",
      "         [ 0.  0.  0.  0.  0.  0.  0.  0.  0.  0.]\n",
      "         [ 0.  0.  0.  0.  0.  0.  0.  0.  0.  0.]]\n",
      "\n",
      " \n",
      "Initial vocabulary of the hearer:\n",
      "                          Words\n",
      "        [[ 0.  0.  0.  0.  0.  0.  0.  0.  0.  0.]\n",
      "         [ 0.  0.  0.  0.  0.  0.  0.  0.  0.  0.]\n",
      "Meanings [ 0.  0.  0.  0.  0.  0.  0.  0.  0.  0.]\n",
      "         [ 0.  0.  0.  0.  0.  0.  0.  0.  0.  0.]\n",
      "         [ 0.  0.  0.  0.  0.  0.  0.  0.  0.  0.]]\n",
      "\n",
      " \n",
      "Meaning chosen by speaker:\n",
      "3\n",
      " \n",
      "Word uttered by speaker:\n",
      "9\n",
      " \n",
      "Meaning interpreted by hearer:\n",
      "1\n",
      " \n",
      "Failure!\n",
      " \n",
      "Updated vocabulary of the speaker:\n",
      "                          Words\n",
      "        [[ 0.  0.  0.  0.  0.  0.  0.  0.  0.  0.]\n",
      "         [ 0.  0.  0.  0.  0.  0.  0.  0.  0.  0.]\n",
      "Meanings [ 0.  0.  0.  0.  0.  0.  0.  0.  0.  0.]\n",
      "         [ 0.  0.  0.  0.  0.  0.  0.  0.  0.  1.]\n",
      "         [ 0.  0.  0.  0.  0.  0.  0.  0.  0.  0.]]\n",
      "\n",
      " \n",
      "Updated vocabulary of the hearer:\n",
      "                          Words\n",
      "        [[ 0.  0.  0.  0.  0.  0.  0.  0.  0.  0.]\n",
      "         [ 0.  0.  0.  0.  0.  0.  0.  0.  0.  0.]\n",
      "Meanings [ 0.  0.  0.  0.  0.  0.  0.  0.  0.  0.]\n",
      "         [ 0.  0.  0.  0.  0.  0.  0.  0.  0.  1.]\n",
      "         [ 0.  0.  0.  0.  0.  0.  0.  0.  0.  0.]]\n",
      "\n"
     ]
    }
   ],
   "source": [
    "memory_s=teststrat.init_memory(voctest_speaker) #Not important for the naive strategy, here it simply is {}\n",
    "memory_h=teststrat.init_memory(voctest_hearer)\n",
    "\n",
    "print(\"Initial vocabulary of the speaker:\")\n",
    "print(voctest_speaker)\n",
    "print(\" \")\n",
    "print(\"Initial vocabulary of the hearer:\")\n",
    "print(voctest_hearer)\n",
    "print(\" \")\n",
    "\n",
    "mw=teststrat.pick_mw(voctest_speaker,memory_s)\n",
    "ms=mw[0]\n",
    "print(\"Meaning chosen by speaker:\")\n",
    "print(ms)\n",
    "print (\" \")\n",
    "\n",
    "w=mw[1]\n",
    "print(\"Word uttered by speaker:\")\n",
    "print(w)\n",
    "print (\" \")\n",
    "\n",
    "mh=teststrat.guess_m(w,voctest_hearer,memory_h)\n",
    "print(\"Meaning interpreted by hearer:\")\n",
    "print(mh)\n",
    "print (\" \")\n",
    "\n",
    "if (ms==mh):\n",
    "    print(\"Success!\")\n",
    "else:\n",
    "    print(\"Failure!\")\n",
    "print(\" \")\n",
    "\n",
    "teststrat.update_speaker(ms,w,mh,voctest_speaker,memory_s)\n",
    "teststrat.update_hearer(ms,w,mh,voctest_hearer,memory_h)\n",
    "\n",
    "print(\"Updated vocabulary of the speaker:\")\n",
    "print(voctest_speaker)\n",
    "print(\" \")\n",
    "print(\"Updated vocabulary of the hearer:\")\n",
    "print(voctest_hearer)"
   ]
  },
  {
   "cell_type": "markdown",
   "metadata": {},
   "source": [
    "\n",
    "\n",
    "Here you can modify by hand the 2 vocabularies before re-executing the code:"
   ]
  },
  {
   "cell_type": "code",
   "execution_count": 6,
   "metadata": {
    "collapsed": false
   },
   "outputs": [
    {
     "name": "stdout",
     "output_type": "stream",
     "text": [
      "Speaker:\n",
      "                          Words\n",
      "        [[ 0.  0.  0.  0.  0.  0.  0.  0.  0.  0.]\n",
      "         [ 0.  0.  0.  0.  0.  0.  0.  0.  0.  0.]\n",
      "Meanings [ 0.  0.  0.  0.  0.  0.  0.  0.  0.  0.]\n",
      "         [ 0.  0.  0.  0.  0.  0.  0.  0.  0.  1.]\n",
      "         [ 0.  0.  0.  0.  0.  0.  0.  0.  0.  0.]]\n",
      "\n",
      " \n",
      "Hearer:\n",
      "                          Words\n",
      "        [[ 0.  0.  0.  0.  0.  0.  0.  0.  0.  0.]\n",
      "         [ 0.  0.  0.  0.  0.  0.  0.  0.  0.  0.]\n",
      "Meanings [ 0.  0.  0.  0.  0.  0.  0.  0.  0.  0.]\n",
      "         [ 0.  0.  0.  0.  0.  0.  0.  0.  0.  1.]\n",
      "         [ 0.  0.  0.  0.  0.  0.  0.  0.  0.  0.]]\n",
      "\n"
     ]
    }
   ],
   "source": [
    "#voctest_speaker.add(0,0,1)\n",
    "#voctest_speaker.add(0,0,0)\n",
    "\n",
    "#voctest_hearer.add(0,0,1)\n",
    "#voctest_hearer.add(0,0,0)\n",
    "\n",
    "print(\"Speaker:\")\n",
    "print(voctest_speaker)\n",
    "print(\" \")\n",
    "print(\"Hearer:\")\n",
    "print(voctest_hearer)"
   ]
  },
  {
   "cell_type": "markdown",
   "metadata": {},
   "source": [
    "Approximation of the probability density of the different procedures of the strategy:"
   ]
  },
  {
   "cell_type": "code",
   "execution_count": 7,
   "metadata": {
    "collapsed": false
   },
   "outputs": [
    {
     "name": "stdout",
     "output_type": "stream",
     "text": [
      "                          Words\n",
      "        [[ 0.  0.  0.  0.  0.  0.  0.  0.  0.  0.]\n",
      "         [ 0.  0.  0.  0.  0.  0.  0.  0.  0.  0.]\n",
      "Meanings [ 0.  0.  0.  0.  0.  0.  0.  0.  0.  0.]\n",
      "         [ 0.  0.  0.  0.  0.  0.  0.  0.  0.  1.]\n",
      "         [ 0.  0.  0.  0.  0.  0.  0.  0.  0.  0.]]\n",
      "\n"
     ]
    },
    {
     "data": {
      "image/png": "[encoded data removed]",
      "text/plain": [
       "<matplotlib.figure.Figure at 0xb565d1ac>"
      ]
     },
     "metadata": {},
     "output_type": "display_data"
    }
   ],
   "source": [
    "voctest_speaker.visual()\n",
    "teststrat.visual(voc=voctest_speaker,vtype=\"pick_m\",iterr=500)"
   ]
  },
  {
   "cell_type": "code",
   "execution_count": 8,
   "metadata": {
    "collapsed": false
   },
   "outputs": [
    {
     "name": "stdout",
     "output_type": "stream",
     "text": [
      "                          Words\n",
      "        [[ 0.  0.  0.  0.  0.  0.  0.  0.  0.  0.]\n",
      "         [ 0.  0.  0.  0.  0.  0.  0.  0.  0.  0.]\n",
      "Meanings [ 0.  0.  0.  0.  0.  0.  0.  0.  0.  0.]\n",
      "         [ 0.  0.  0.  0.  0.  0.  0.  0.  0.  1.]\n",
      "         [ 0.  0.  0.  0.  0.  0.  0.  0.  0.  0.]]\n",
      "\n"
     ]
    },
    {
     "data": {
      "image/png": "[encoded data removed]",
      "text/plain": [
       "<matplotlib.figure.Figure at 0xad5d1d8c>"
      ]
     },
     "metadata": {},
     "output_type": "display_data"
    }
   ],
   "source": [
    "voctest_speaker.visual()\n",
    "teststrat.visual(voc=voctest_speaker,vtype=\"pick_mw\",iterr=500)"
   ]
  },
  {
   "cell_type": "code",
   "execution_count": 9,
   "metadata": {
    "collapsed": false
   },
   "outputs": [
    {
     "name": "stdout",
     "output_type": "stream",
     "text": [
      "                          Words\n",
      "        [[ 0.  0.  0.  0.  0.  0.  0.  0.  0.  0.]\n",
      "         [ 0.  0.  0.  0.  0.  0.  0.  0.  0.  0.]\n",
      "Meanings [ 0.  0.  0.  0.  0.  0.  0.  0.  0.  0.]\n",
      "         [ 0.  0.  0.  0.  0.  0.  0.  0.  0.  1.]\n",
      "         [ 0.  0.  0.  0.  0.  0.  0.  0.  0.  0.]]\n",
      "\n"
     ]
    },
    {
     "data": {
      "image/png": "[encoded data removed]",
      "text/plain": [
       "<matplotlib.figure.Figure at 0xad5158ec>"
      ]
     },
     "metadata": {},
     "output_type": "display_data"
    }
   ],
   "source": [
    "voctest_speaker.visual()\n",
    "teststrat.visual(voc=voctest_speaker,vtype=\"pick_w\",iterr=500)"
   ]
  },
  {
   "cell_type": "code",
   "execution_count": 10,
   "metadata": {
    "collapsed": false
   },
   "outputs": [
    {
     "name": "stdout",
     "output_type": "stream",
     "text": [
      "                          Words\n",
      "        [[ 0.  0.  0.  0.  0.  0.  0.  0.  0.  0.]\n",
      "         [ 0.  0.  0.  0.  0.  0.  0.  0.  0.  0.]\n",
      "Meanings [ 0.  0.  0.  0.  0.  0.  0.  0.  0.  0.]\n",
      "         [ 0.  0.  0.  0.  0.  0.  0.  0.  0.  1.]\n",
      "         [ 0.  0.  0.  0.  0.  0.  0.  0.  0.  0.]]\n",
      "\n"
     ]
    },
    {
     "data": {
      "image/png": "[encoded data removed]",
      "text/plain": [
       "<matplotlib.figure.Figure at 0xad41a72c>"
      ]
     },
     "metadata": {},
     "output_type": "display_data"
    }
   ],
   "source": [
    "voctest_hearer.visual()\n",
    "teststrat.visual(voc=voctest_hearer,vtype=\"guess_m\",iterr=500)"
   ]
  },
  {
   "cell_type": "code",
   "execution_count": null,
   "metadata": {
    "collapsed": true
   },
   "outputs": [],
   "source": []
  },
  {
   "cell_type": "code",
   "execution_count": null,
   "metadata": {
    "collapsed": true
   },
   "outputs": [],
   "source": []
  },
  {
   "cell_type": "code",
   "execution_count": null,
   "metadata": {
    "collapsed": true
   },
   "outputs": [],
   "source": []
  },
  {
   "cell_type": "code",
   "execution_count": null,
   "metadata": {
    "collapsed": true
   },
   "outputs": [],
   "source": []
  },
  {
   "cell_type": "code",
   "execution_count": null,
   "metadata": {
    "collapsed": true
   },
   "outputs": [],
   "source": []
  },
  {
   "cell_type": "code",
   "execution_count": null,
   "metadata": {
    "collapsed": true
   },
   "outputs": [],
   "source": []
  }
 ],
 "metadata": {
  "kernelspec": {
   "display_name": "Python 2",
   "language": "python",
   "name": "python2"
  },
  "language_info": {
   "codemirror_mode": {
    "name": "ipython",
    "version": 2
   },
   "file_extension": ".py",
   "mimetype": "text/x-python",
   "name": "python",
   "nbconvert_exporter": "python",
   "pygments_lexer": "ipython2",
   "version": "2.7.6"
  }
 },
 "nbformat": 4,
 "nbformat_minor": 0
}
