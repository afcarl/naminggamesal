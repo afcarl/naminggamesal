{
 "cells": [
  {
   "cell_type": "code",
   "execution_count": 1,
   "metadata": {
    "collapsed": true
   },
   "outputs": [],
   "source": [
    "import sys\n",
    "sys.path.append(\"..\")\n",
    "import seaborn as sns\n",
    "%matplotlib inline\n",
    "sns.set(rc={'image.cmap': 'Purples_r'})"
   ]
  },
  {
   "cell_type": "markdown",
   "metadata": {
    "collapsed": false
   },
   "source": [
    "#Introducing the objects\n",
    "Here we will introduce the different objects involved in the Naming Games models we are using. You can go directly to subsections and execute the code from there, they are independant."
   ]
  },
  {
   "cell_type": "markdown",
   "metadata": {},
   "source": [
    "##Vocabulary\n",
    "First object is the vocabulary. It represents a lexical description of objects. That is to say, associations between $\\textit{words}$ and $\\textit{meanings}$. Here we consider vocabularies as being matrices filled with 0s or 1s, of size (\\#meanings,\\#words). The words and meanings are here symbolic, it means they can be refered to only by their respective column (for words) or line (for meanings) number in the matrix."
   ]
  },
  {
   "cell_type": "code",
   "execution_count": 2,
   "metadata": {
    "collapsed": false
   },
   "outputs": [],
   "source": [
    "from naminggamesal import ngvoc "
   ]
  },
  {
   "cell_type": "markdown",
   "metadata": {
    "collapsed": true
   },
   "source": [
    "We create an object vocabulary, of type sparse (more info on other possibilities: Design_newVocabulary.ipynb), and size M=5,W=10"
   ]
  },
  {
   "cell_type": "code",
   "execution_count": 3,
   "metadata": {
    "collapsed": false
   },
   "outputs": [],
   "source": [
    "voc_cfg={\n",
    "    'voc_type':'sparse_matrix',\n",
    "    'M':5,\n",
    "    'W':10\n",
    "    }\n",
    "voctest=ngvoc.Vocabulary(**voc_cfg)"
   ]
  },
  {
   "cell_type": "code",
   "execution_count": 4,
   "metadata": {
    "collapsed": false
   },
   "outputs": [
    {
     "data": {
      "text/plain": [
       "<naminggamesal.ngvoc.matrix.VocSparseMatrix at 0xaa45766c>"
      ]
     },
     "execution_count": 4,
     "metadata": {},
     "output_type": "execute_result"
    }
   ],
   "source": [
    "voctest"
   ]
  },
  {
   "cell_type": "markdown",
   "metadata": {},
   "source": [
    "It is initiated completely empty."
   ]
  },
  {
   "cell_type": "code",
   "execution_count": 5,
   "metadata": {
    "collapsed": false
   },
   "outputs": [
    {
     "name": "stdout",
     "output_type": "stream",
     "text": [
      "                          Words\n",
      "        [[ 0.  0.  0.  0.  0.  0.  0.  0.  0.  0.]\n",
      "         [ 0.  0.  0.  0.  0.  0.  0.  0.  0.  0.]\n",
      "Meanings [ 0.  0.  0.  0.  0.  0.  0.  0.  0.  0.]\n",
      "         [ 0.  0.  0.  0.  0.  0.  0.  0.  0.  0.]\n",
      "         [ 0.  0.  0.  0.  0.  0.  0.  0.  0.  0.]]\n",
      "\n"
     ]
    }
   ],
   "source": [
    "print(voctest)"
   ]
  },
  {
   "cell_type": "markdown",
   "metadata": {},
   "source": [
    "###Manipulate the vocabulary\n",
    "We can then <u>add</u> an association between meaning 3 and word 4 (of value 1). This means that to refer to meaning 3, an agent using this vocabulary would use word 4."
   ]
  },
  {
   "cell_type": "code",
   "execution_count": 6,
   "metadata": {
    "collapsed": false
   },
   "outputs": [
    {
     "name": "stdout",
     "output_type": "stream",
     "text": [
      "                          Words\n",
      "        [[ 0.  1.  0.  0.  0.  0.  0.  0.  0.  0.]\n",
      "         [ 0.  0.  0.  0.  0.  0.  0.  0.  0.  0.]\n",
      "Meanings [ 0.  0.  0.  0.  0.  0.  0.  0.  0.  0.]\n",
      "         [ 0.  0.  0.  0.  0.  0.  0.  0.  0.  0.]\n",
      "         [ 0.  0.  0.  0.  0.  0.  0.  0.  0.  0.]]\n",
      "\n"
     ]
    },
    {
     "name": "stderr",
     "output_type": "stream",
     "text": [
      "/usr/lib/python2.7/dist-packages/scipy/sparse/compressed.py:728: SparseEfficiencyWarning: Changing the sparsity structure of a csr_matrix is expensive. lil_matrix is more efficient.\n",
      "  SparseEfficiencyWarning)\n"
     ]
    }
   ],
   "source": [
    "voctest.add(0,1,1)\n",
    "print(voctest)"
   ]
  },
  {
   "cell_type": "markdown",
   "metadata": {},
   "source": [
    "To remove the link, simply add it with value 0."
   ]
  },
  {
   "cell_type": "code",
   "execution_count": 7,
   "metadata": {
    "collapsed": false
   },
   "outputs": [
    {
     "name": "stdout",
     "output_type": "stream",
     "text": [
      "                          Words\n",
      "        [[ 0.  1.  0.  0.  0.  0.  0.  0.  0.  0.]\n",
      "         [ 0.  0.  0.  0.  0.  0.  0.  0.  0.  0.]\n",
      "Meanings [ 0.  0.  0.  0.  0.  0.  0.  0.  0.  0.]\n",
      "         [ 0.  0.  0.  0.  0.  0.  0.  0.  0.  0.]\n",
      "         [ 0.  0.  0.  0.  0.  0.  0.  0.  0.  0.]]\n",
      "\n"
     ]
    }
   ],
   "source": [
    "voctest.add(3,4,0)\n",
    "print(voctest)"
   ]
  },
  {
   "cell_type": "markdown",
   "metadata": {},
   "source": [
    "Let's <u>fill</u> the entire matrix with ones"
   ]
  },
  {
   "cell_type": "code",
   "execution_count": 8,
   "metadata": {
    "collapsed": false
   },
   "outputs": [
    {
     "name": "stdout",
     "output_type": "stream",
     "text": [
      "                          Words\n",
      "        [[ 1.  1.  1.  1.  1.  1.  1.  1.  1.  1.]\n",
      "         [ 1.  1.  1.  1.  1.  1.  1.  1.  1.  1.]\n",
      "Meanings [ 1.  1.  1.  1.  1.  1.  1.  1.  1.  1.]\n",
      "         [ 1.  1.  1.  1.  1.  1.  1.  1.  1.  1.]\n",
      "         [ 1.  1.  1.  1.  1.  1.  1.  1.  1.  1.]]\n",
      "\n"
     ]
    }
   ],
   "source": [
    "voctest.fill()\n",
    "print(voctest)"
   ]
  },
  {
   "cell_type": "markdown",
   "metadata": {},
   "source": [
    "We can <u>remove homonyms or synonyms</u> of a meaning/word association"
   ]
  },
  {
   "cell_type": "code",
   "execution_count": 9,
   "metadata": {
    "collapsed": false
   },
   "outputs": [
    {
     "name": "stdout",
     "output_type": "stream",
     "text": [
      "                          Words\n",
      "        [[ 1.  1.  0.  1.  1.  1.  1.  1.  1.  1.]\n",
      "         [ 1.  1.  0.  1.  1.  1.  1.  1.  1.  1.]\n",
      "Meanings [ 1.  1.  1.  1.  1.  1.  1.  1.  1.  1.]\n",
      "         [ 1.  1.  0.  1.  1.  1.  1.  1.  1.  1.]\n",
      "         [ 1.  1.  0.  1.  1.  1.  1.  1.  1.  1.]]\n",
      "\n"
     ]
    }
   ],
   "source": [
    "voctest.rm_hom(2,2)\n",
    "print(voctest)"
   ]
  },
  {
   "cell_type": "code",
   "execution_count": 10,
   "metadata": {
    "collapsed": false
   },
   "outputs": [
    {
     "name": "stdout",
     "output_type": "stream",
     "text": [
      "                          Words\n",
      "        [[ 1.  1.  1.  1.  1.  1.  1.  1.  1.  1.]\n",
      "         [ 1.  1.  1.  1.  1.  1.  1.  1.  1.  1.]\n",
      "Meanings [ 1.  1.  1.  1.  1.  1.  1.  1.  1.  1.]\n",
      "         [ 0.  0.  0.  0.  1.  0.  0.  0.  0.  0.]\n",
      "         [ 1.  1.  1.  1.  1.  1.  1.  1.  1.  1.]]\n",
      "\n"
     ]
    }
   ],
   "source": [
    "voctest.fill()\n",
    "voctest.rm_syn(3,4)\n",
    "print(voctest)"
   ]
  },
  {
   "cell_type": "markdown",
   "metadata": {},
   "source": [
    "###Useful functions\n",
    "Such as finding special subsets of meanings or words, and picking meanings and words among them. First we initialize a random vocabulary, and then apply all the functions. \n",
    "\n",
    "Note: Small values of M and W let you see more clearly what's happening locally, high values may be more interesting for the visualizations."
   ]
  },
  {
   "cell_type": "code",
   "execution_count": 11,
   "metadata": {
    "collapsed": false
   },
   "outputs": [
    {
     "name": "stdout",
     "output_type": "stream",
     "text": [
      "                                         Words\n",
      "        [[ 0.     0.     0.     0.138  0.448  0.     0.     0.     0.     0.649]\n",
      "         [ 0.     0.     0.508  0.     0.     0.     0.     0.259  0.     0.   ]\n",
      "Meanings [ 0.     0.     0.     0.     0.     0.     0.214  0.     0.     0.   ]\n",
      "         [ 0.     0.     0.     0.     0.252  0.     0.     0.     0.     0.   ]\n",
      "         [ 0.     0.554  0.878  0.     0.     0.     0.     0.     0.2    0.   ]]\n",
      "\n"
     ]
    }
   ],
   "source": [
    "import random\n",
    "import matplotlib.pyplot as plt\n",
    "\n",
    "voc_cfg2={\n",
    "    'voc_type':'sparse_matrix',\n",
    "    'M':5,\n",
    "    'W':10\n",
    "    }\n",
    "\n",
    "nlink=10\n",
    "\n",
    "voctest2=ngvoc.Vocabulary(**voc_cfg2)\n",
    "for i in range(0,nlink):\n",
    "    voctest2.add(random.randint(0, voc_cfg2['M']-1),random.randint(0, voc_cfg2['W']-1),round(random.random(),3))\n",
    "print(voctest2)"
   ]
  },
  {
   "cell_type": "markdown",
   "metadata": {},
   "source": [
    "Here you can modify the $voctest2$ variable by hand before executing the code:"
   ]
  },
  {
   "cell_type": "code",
   "execution_count": 12,
   "metadata": {
    "collapsed": true
   },
   "outputs": [],
   "source": [
    "#voctest2.add(0,0,1)\n",
    "#voctest2.add(0,0,0)"
   ]
  },
  {
   "cell_type": "code",
   "execution_count": 13,
   "metadata": {
    "collapsed": false
   },
   "outputs": [
    {
     "name": "stdout",
     "output_type": "stream",
     "text": [
      "Vocabulary:\n",
      "                                         Words\n",
      "        [[ 0.     0.     0.     0.138  0.448  0.     0.     0.     0.     0.649]\n",
      "         [ 0.     0.     0.508  0.     0.     0.     0.     0.259  0.     0.   ]\n",
      "Meanings [ 0.     0.     0.     0.     0.     0.     0.214  0.     0.     0.   ]\n",
      "         [ 0.     0.     0.     0.     0.252  0.     0.     0.     0.     0.   ]\n",
      "         [ 0.     0.554  0.878  0.     0.     0.     0.     0.     0.2    0.   ]]\n",
      "\n",
      "\n",
      "Known words:\n",
      "[1, 2, 3, 4, 6, 7, 8, 9]\n",
      "Random known word:\n",
      "2\n",
      "\n",
      "Unknown words:\n",
      "[0, 5]\n",
      "New unknown word:\n",
      "0\n",
      "\n",
      "Known meanings:\n",
      "[0, 1, 2, 3, 4]\n",
      "Random known meaning:\n",
      "[4]\n",
      "None\n",
      "max\n",
      "error is in random choice\n",
      "4\n",
      "\n",
      "Unknown meanings:\n",
      "[]\n",
      "New unknown meaning:\n",
      "[]\n",
      "tried to get new m but all are known\n",
      "[0]\n",
      "None\n",
      "min\n",
      "error is in random choice\n",
      "0\n",
      "\n",
      "\n",
      "Known words for meaning 1:\n",
      "[2, 7]\n",
      "Random known word for meaning 1:\n",
      "2\n",
      "\n",
      "Unknown words for meaning 1:\n",
      "[0, 1, 3, 4, 5, 6, 8, 9]\n",
      "\n",
      "Known meanings for word 2:\n",
      "[1, 4]\n",
      "Random known meaning for word 2:\n",
      "[4]\n",
      "2\n",
      "max\n",
      "error is in random choice\n",
      "4\n",
      "\n",
      "Unknown meanings for word 2:\n",
      "[0, 2, 3]\n"
     ]
    }
   ],
   "source": [
    "print(\"Vocabulary:\")\n",
    "print(voctest2)\n",
    "print(\"\")\n",
    "\n",
    "print(\"Known words:\")\n",
    "print(voctest2.get_known_words())\n",
    "print(\"Random known word:\")\n",
    "print(voctest2.get_random_known_w())\n",
    "print(\"\")\n",
    "print(\"Unknown words:\")\n",
    "print(voctest2.get_unknown_words())\n",
    "print(\"New unknown word:\")\n",
    "print(voctest2.get_new_unknown_w())\n",
    "print(\"\")\n",
    "print(\"Known meanings:\")\n",
    "print(voctest2.get_known_meanings())\n",
    "print(\"Random known meaning:\")\n",
    "print(voctest2.get_random_known_m())\n",
    "\n",
    "print(\"\")\n",
    "print(\"Unknown meanings:\")\n",
    "print(voctest2.get_unknown_meanings())\n",
    "print(\"New unknown meaning:\")\n",
    "print(voctest2.get_new_unknown_m())\n",
    "print(\"\")\n",
    "print(\"\")\n",
    "print(\"Known words for meaning 1:\")\n",
    "print(voctest2.get_known_words(1))\n",
    "print(\"Random known word for meaning 1:\")\n",
    "print(voctest2.get_random_known_w(1))\n",
    "print(\"\")\n",
    "print(\"Unknown words for meaning 1:\")\n",
    "print(voctest2.get_unknown_words(1))\n",
    "print(\"\")\n",
    "print(\"Known meanings for word 2:\")\n",
    "print(voctest2.get_known_meanings(2))\n",
    "print(\"Random known meaning for word 2:\")\n",
    "print(voctest2.get_random_known_m(2))\n",
    "print(\"\")\n",
    "print(\"Unknown meanings for word 2:\")\n",
    "print(voctest2.get_unknown_meanings(2))\n"
   ]
  },
  {
   "cell_type": "markdown",
   "metadata": {},
   "source": [
    "We introduce here a representation of the degree of synonymy/homonymy of the vocabulary. Colors are the same on a line/column. Light colors indicate high degree of synonymy/homonymy, dark ones low degree."
   ]
  },
  {
   "cell_type": "code",
   "execution_count": 14,
   "metadata": {
    "collapsed": false
   },
   "outputs": [
    {
     "data": {
      "text/plain": [
       "{}"
      ]
     },
     "execution_count": 14,
     "metadata": {},
     "output_type": "execute_result"
    }
   ],
   "source": [
    "voctest2._cache"
   ]
  },
  {
   "cell_type": "code",
   "execution_count": 15,
   "metadata": {
    "collapsed": false
   },
   "outputs": [
    {
     "data": {
      "image/png": "[encoded data removed]",
      "text/plain": [
       "<matplotlib.figure.Figure at 0xaa395c2c>"
      ]
     },
     "metadata": {},
     "output_type": "display_data"
    },
    {
     "data": {
      "image/png": "[encoded data removed]",
      "text/plain": [
       "<matplotlib.figure.Figure at 0xaa355aec>"
      ]
     },
     "metadata": {},
     "output_type": "display_data"
    }
   ],
   "source": [
    "voctest2.visual(vtype=\"hom\")\n",
    "plt.figure()\n",
    "voctest2.visual(vtype=\"syn\")"
   ]
  },
  {
   "cell_type": "code",
   "execution_count": null,
   "metadata": {
    "collapsed": true
   },
   "outputs": [],
   "source": []
  },
  {
   "cell_type": "code",
   "execution_count": null,
   "metadata": {
    "collapsed": true
   },
   "outputs": [],
   "source": []
  },
  {
   "cell_type": "code",
   "execution_count": null,
   "metadata": {
    "collapsed": true
   },
   "outputs": [],
   "source": []
  }
 ],
 "metadata": {
  "kernelspec": {
   "display_name": "Python 2",
   "language": "python",
   "name": "python2"
  },
  "language_info": {
   "codemirror_mode": {
    "name": "ipython",
    "version": 2
   },
   "file_extension": ".py",
   "mimetype": "text/x-python",
   "name": "python",
   "nbconvert_exporter": "python",
   "pygments_lexer": "ipython2",
   "version": "2.7.6"
  }
 },
 "nbformat": 4,
 "nbformat_minor": 0
}
