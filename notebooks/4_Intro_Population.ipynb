{
 "cells": [
  {
   "cell_type": "code",
   "execution_count": 1,
   "metadata": {
    "collapsed": true
   },
   "outputs": [],
   "source": [
    "import sys\n",
    "import seaborn as sns\n",
    "sys.path.append(\"..\")\n",
    "%matplotlib inline\n",
    "sns.set(rc={'image.cmap': 'Purples_r'})"
   ]
  },
  {
   "cell_type": "markdown",
   "metadata": {},
   "source": [
    "##Populations"
   ]
  },
  {
   "cell_type": "code",
   "execution_count": 2,
   "metadata": {
    "collapsed": false
   },
   "outputs": [],
   "source": [
    "import naminggamesal.ngpop as ngpop"
   ]
  },
  {
   "cell_type": "markdown",
   "metadata": {
    "collapsed": true
   },
   "source": [
    "Let's create a population. Agent creation is here dealt with automatically. Still, it is possible to manually add or remove agents (Hence the IDs of the agents), what will be seen later."
   ]
  },
  {
   "cell_type": "code",
   "execution_count": 3,
   "metadata": {
    "collapsed": false
   },
   "outputs": [
    {
     "data": {
      "text/plain": [
       "<naminggamesal.ngpop.population.Population at 0x7fbac7007d10>"
      ]
     },
     "execution_count": 3,
     "metadata": {},
     "output_type": "execute_result"
    }
   ],
   "source": [
    "pop_cfg={\n",
    "    'voc_cfg':{\n",
    "        'voc_type':'matrix',\n",
    "        'M':5,\n",
    "        'W':10\n",
    "        },\n",
    "    'strat_cfg':{\n",
    "        'strat_type':'naive',\n",
    "        'vu_cfg':{'vu_type':'BLIS'}\n",
    "        },\n",
    "    'interact_cfg':{\n",
    "        'interact_type':'speakerschoice'\n",
    "        },\n",
    "    'nbagent':3\n",
    "    }\n",
    "\n",
    "\n",
    "testpop=ngpop.Population(**pop_cfg)\n",
    "testpop"
   ]
  },
  {
   "cell_type": "code",
   "execution_count": 4,
   "metadata": {
    "collapsed": false
   },
   "outputs": [
    {
     "name": "stdout",
     "output_type": "stream",
     "text": [
      "nbagent: 3\n",
      "[[ 0.  0.  0.  0.  0.  0.  0.  0.  0.  0.]\n",
      " [ 0.  0.  0.  0.  0.  0.  0.  0.  0.  0.]\n",
      " [ 0.  0.  0.  0.  0.  0.  0.  0.  0.  0.]\n",
      " [ 0.  0.  0.  0.  0.  0.  0.  0.  0.  0.]\n",
      " [ 0.  0.  0.  0.  0.  0.  0.  0.  0.  0.]]\n",
      "\n",
      "Agent ID: 783e4268-a265-11e5-9504-3cd92b6a6473\n",
      "\n",
      "                          Words\n",
      "        [[ 0.  0.  0.  0.  0.  0.  0.  0.  0.  0.]\n",
      "         [ 0.  0.  0.  0.  0.  0.  0.  0.  0.  0.]\n",
      "Meanings [ 0.  0.  0.  0.  0.  0.  0.  0.  0.  0.]\n",
      "         [ 0.  0.  0.  0.  0.  0.  0.  0.  0.  0.]\n",
      "         [ 0.  0.  0.  0.  0.  0.  0.  0.  0.  0.]]\n",
      "\n",
      "\n",
      "\n",
      "Agent ID: 783f9758-a265-11e5-9504-3cd92b6a6473\n",
      "\n",
      "                          Words\n",
      "        [[ 0.  0.  0.  0.  0.  0.  0.  0.  0.  0.]\n",
      "         [ 0.  0.  0.  0.  0.  0.  0.  0.  0.  0.]\n",
      "Meanings [ 0.  0.  0.  0.  0.  0.  0.  0.  0.  0.]\n",
      "         [ 0.  0.  0.  0.  0.  0.  0.  0.  0.  0.]\n",
      "         [ 0.  0.  0.  0.  0.  0.  0.  0.  0.  0.]]\n",
      "\n",
      "\n",
      "\n",
      "Agent ID: 78408b72-a265-11e5-9504-3cd92b6a6473\n",
      "\n",
      "                          Words\n",
      "        [[ 0.  0.  0.  0.  0.  0.  0.  0.  0.  0.]\n",
      "         [ 0.  0.  0.  0.  0.  0.  0.  0.  0.  0.]\n",
      "Meanings [ 0.  0.  0.  0.  0.  0.  0.  0.  0.  0.]\n",
      "         [ 0.  0.  0.  0.  0.  0.  0.  0.  0.  0.]\n",
      "         [ 0.  0.  0.  0.  0.  0.  0.  0.  0.  0.]]\n",
      "\n",
      "\n",
      "\n"
     ]
    }
   ],
   "source": [
    "print(testpop)\n",
    "print\n",
    "testpop.visual(vtype=\"agents\")"
   ]
  },
  {
   "cell_type": "code",
   "execution_count": 9,
   "metadata": {
    "collapsed": false
   },
   "outputs": [],
   "source": [
    "testpop.play_game(1)"
   ]
  },
  {
   "cell_type": "code",
   "execution_count": 10,
   "metadata": {
    "collapsed": false,
    "scrolled": false
   },
   "outputs": [
    {
     "name": "stdout",
     "output_type": "stream",
     "text": [
      "nbagent: 3\n",
      "[[ 0.          0.33333333  0.          0.          0.          0.          0.\n",
      "   0.33333333  0.          0.        ]\n",
      " [ 0.43333333  0.          0.          0.          0.          0.          0.\n",
      "   0.          0.          0.        ]\n",
      " [ 0.          0.          0.2         0.          0.          0.          0.5\n",
      "   0.          0.          0.        ]\n",
      " [ 0.          0.          0.          0.          0.33333333  0.          0.\n",
      "   0.          0.4         0.        ]\n",
      " [ 0.          0.          0.          0.          0.          0.          0.\n",
      "   0.          0.          0.        ]]\n"
     ]
    },
    {
     "data": {
      "image/png": "[encoded data removed]",
      "text/plain": [
       "<matplotlib.figure.Figure at 0x7fbac6f852d0>"
      ]
     },
     "metadata": {},
     "output_type": "display_data"
    }
   ],
   "source": [
    "print(testpop)\n",
    "testpop.visual()"
   ]
  },
  {
   "cell_type": "code",
   "execution_count": 11,
   "metadata": {
    "collapsed": false
   },
   "outputs": [
    {
     "name": "stdout",
     "output_type": "stream",
     "text": [
      "Agent ID: 783e4268-a265-11e5-9504-3cd92b6a6473\n",
      "\n",
      "                               Words\n",
      "        [[ 0.   0.   0.   0.   0.   0.   0.   0.5  0.   0. ]\n",
      "         [ 0.3  0.   0.   0.   0.   0.   0.   0.   0.   0. ]\n",
      "Meanings [ 0.   0.   0.   0.   0.   0.   0.3  0.   0.   0. ]\n",
      "         [ 0.   0.   0.   0.   0.5  0.   0.   0.   0.6  0. ]\n",
      "         [ 0.   0.   0.   0.   0.   0.   0.   0.   0.   0. ]]\n",
      "\n",
      "\n",
      "\n",
      "Agent ID: 783f9758-a265-11e5-9504-3cd92b6a6473\n",
      "\n",
      "                               Words\n",
      "        [[ 0.   0.5  0.   0.   0.   0.   0.   0.   0.   0. ]\n",
      "         [ 0.5  0.   0.   0.   0.   0.   0.   0.   0.   0. ]\n",
      "Meanings [ 0.   0.   0.3  0.   0.   0.   0.6  0.   0.   0. ]\n",
      "         [ 0.   0.   0.   0.   0.   0.   0.   0.   0.6  0. ]\n",
      "         [ 0.   0.   0.   0.   0.   0.   0.   0.   0.   0. ]]\n",
      "\n",
      "\n",
      "\n",
      "Agent ID: 78408b72-a265-11e5-9504-3cd92b6a6473\n",
      "\n",
      "                               Words\n",
      "        [[ 0.   0.5  0.   0.   0.   0.   0.   0.5  0.   0. ]\n",
      "         [ 0.5  0.   0.   0.   0.   0.   0.   0.   0.   0. ]\n",
      "Meanings [ 0.   0.   0.3  0.   0.   0.   0.6  0.   0.   0. ]\n",
      "         [ 0.   0.   0.   0.   0.5  0.   0.   0.   0.   0. ]\n",
      "         [ 0.   0.   0.   0.   0.   0.   0.   0.   0.   0. ]]\n",
      "\n",
      "\n",
      "\n"
     ]
    }
   ],
   "source": [
    "testpop.visual(vtype=\"agents\")"
   ]
  },
  {
   "cell_type": "code",
   "execution_count": 7,
   "metadata": {
    "collapsed": false
   },
   "outputs": [
    {
     "data": {
      "text/plain": [
       "matrix([[ 0. ,  0. ,  0. ,  0. ,  0. ,  0. ,  0. ,  0.5,  0. ,  0. ],\n",
       "        [ 0.5,  0. ,  0. ,  0. ,  0. ,  0. ,  0. ,  0. ,  0. ,  0. ],\n",
       "        [ 0. ,  0. ,  0. ,  0. ,  0. ,  0. ,  0.3,  0. ,  0. ,  0. ],\n",
       "        [ 0. ,  0. ,  0. ,  0. ,  0.5,  0. ,  0. ,  0. ,  0.6,  0. ],\n",
       "        [ 0. ,  0. ,  0. ,  0. ,  0. ,  0. ,  0. ,  0. ,  0. ,  0. ]])"
      ]
     },
     "execution_count": 7,
     "metadata": {},
     "output_type": "execute_result"
    }
   ],
   "source": [
    "testpop._agentlist[0]._vocabulary._content"
   ]
  },
  {
   "cell_type": "code",
   "execution_count": 28,
   "metadata": {
    "collapsed": true
   },
   "outputs": [],
   "source": [
    "testpop._agentlist[0]._vocabulary.add(0,0,0.5)"
   ]
  },
  {
   "cell_type": "code",
   "execution_count": null,
   "metadata": {
    "collapsed": true
   },
   "outputs": [],
   "source": []
  }
 ],
 "metadata": {
  "kernelspec": {
   "display_name": "Python 2",
   "language": "python",
   "name": "python2"
  },
  "language_info": {
   "codemirror_mode": {
    "name": "ipython",
    "version": 2
   },
   "file_extension": ".py",
   "mimetype": "text/x-python",
   "name": "python",
   "nbconvert_exporter": "python",
   "pygments_lexer": "ipython2",
   "version": "2.7.6"
  }
 },
 "nbformat": 4,
 "nbformat_minor": 0
}
