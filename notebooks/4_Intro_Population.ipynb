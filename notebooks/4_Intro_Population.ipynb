{
 "cells": [
  {
   "cell_type": "code",
   "execution_count": 1,
   "metadata": {
    "collapsed": true
   },
   "outputs": [],
   "source": [
    "import sys\n",
    "import seaborn as sns\n",
    "sys.path.append(\"..\")\n",
    "%matplotlib inline\n",
    "sns.set(rc={'image.cmap': 'Purples_r'})"
   ]
  },
  {
   "cell_type": "markdown",
   "metadata": {},
   "source": [
    "##Populations"
   ]
  },
  {
   "cell_type": "code",
   "execution_count": 2,
   "metadata": {
    "collapsed": false
   },
   "outputs": [],
   "source": [
    "import lib.ngpop as ngpop"
   ]
  },
  {
   "cell_type": "markdown",
   "metadata": {
    "collapsed": true
   },
   "source": [
    "Let's create a population. Agent creation is here dealt with automatically. Still, it is possible to manually add or remove agents (Hence the IDs of the agents), what will be seen later."
   ]
  },
  {
   "cell_type": "code",
   "execution_count": 3,
   "metadata": {
    "collapsed": false
   },
   "outputs": [
    {
     "data": {
      "text/plain": [
       "<lib.ngpop.population.Population at 0xae99cc6c>"
      ]
     },
     "execution_count": 3,
     "metadata": {},
     "output_type": "execute_result"
    }
   ],
   "source": [
    "pop_cfg={\n",
    "    'voc_cfg':{\n",
    "        'voc_type':'sparse_matrix',\n",
    "        'M':5,\n",
    "        'W':10\n",
    "        },\n",
    "    'strat_cfg':{\n",
    "        'strat_type':'naive_real'\n",
    "        },\n",
    "    'nbagent':10\n",
    "    }\n",
    "\n",
    "\n",
    "testpop=ngpop.Population(**pop_cfg)\n",
    "testpop"
   ]
  },
  {
   "cell_type": "code",
   "execution_count": 4,
   "metadata": {
    "collapsed": false
   },
   "outputs": [
    {
     "name": "stdout",
     "output_type": "stream",
     "text": [
      "nbagent: 10\n",
      "[[ 0.  0.  0.  0.  0.  0.  0.  0.  0.  0.]\n",
      " [ 0.  0.  0.  0.  0.  0.  0.  0.  0.  0.]\n",
      " [ 0.  0.  0.  0.  0.  0.  0.  0.  0.  0.]\n",
      " [ 0.  0.  0.  0.  0.  0.  0.  0.  0.  0.]\n",
      " [ 0.  0.  0.  0.  0.  0.  0.  0.  0.  0.]]\n",
      "\n",
      "Agent ID: 1\n",
      "\n",
      "                          Words\n",
      "        [[ 0.  0.  0.  0.  0.  0.  0.  0.  0.  0.]\n",
      "         [ 0.  0.  0.  0.  0.  0.  0.  0.  0.  0.]\n",
      "Meanings [ 0.  0.  0.  0.  0.  0.  0.  0.  0.  0.]\n",
      "         [ 0.  0.  0.  0.  0.  0.  0.  0.  0.  0.]\n",
      "         [ 0.  0.  0.  0.  0.  0.  0.  0.  0.  0.]]\n",
      "\n",
      "\n",
      "\n",
      "Agent ID: 2\n",
      "\n",
      "                          Words\n",
      "        [[ 0.  0.  0.  0.  0.  0.  0.  0.  0.  0.]\n",
      "         [ 0.  0.  0.  0.  0.  0.  0.  0.  0.  0.]\n",
      "Meanings [ 0.  0.  0.  0.  0.  0.  0.  0.  0.  0.]\n",
      "         [ 0.  0.  0.  0.  0.  0.  0.  0.  0.  0.]\n",
      "         [ 0.  0.  0.  0.  0.  0.  0.  0.  0.  0.]]\n",
      "\n",
      "\n",
      "\n",
      "Agent ID: 3\n",
      "\n",
      "                          Words\n",
      "        [[ 0.  0.  0.  0.  0.  0.  0.  0.  0.  0.]\n",
      "         [ 0.  0.  0.  0.  0.  0.  0.  0.  0.  0.]\n",
      "Meanings [ 0.  0.  0.  0.  0.  0.  0.  0.  0.  0.]\n",
      "         [ 0.  0.  0.  0.  0.  0.  0.  0.  0.  0.]\n",
      "         [ 0.  0.  0.  0.  0.  0.  0.  0.  0.  0.]]\n",
      "\n",
      "\n",
      "\n",
      "Agent ID: 4\n",
      "\n",
      "                          Words\n",
      "        [[ 0.  0.  0.  0.  0.  0.  0.  0.  0.  0.]\n",
      "         [ 0.  0.  0.  0.  0.  0.  0.  0.  0.  0.]\n",
      "Meanings [ 0.  0.  0.  0.  0.  0.  0.  0.  0.  0.]\n",
      "         [ 0.  0.  0.  0.  0.  0.  0.  0.  0.  0.]\n",
      "         [ 0.  0.  0.  0.  0.  0.  0.  0.  0.  0.]]\n",
      "\n",
      "\n",
      "\n",
      "Agent ID: 5\n",
      "\n",
      "                          Words\n",
      "        [[ 0.  0.  0.  0.  0.  0.  0.  0.  0.  0.]\n",
      "         [ 0.  0.  0.  0.  0.  0.  0.  0.  0.  0.]\n",
      "Meanings [ 0.  0.  0.  0.  0.  0.  0.  0.  0.  0.]\n",
      "         [ 0.  0.  0.  0.  0.  0.  0.  0.  0.  0.]\n",
      "         [ 0.  0.  0.  0.  0.  0.  0.  0.  0.  0.]]\n",
      "\n",
      "\n",
      "\n",
      "Agent ID: 6\n",
      "\n",
      "                          Words\n",
      "        [[ 0.  0.  0.  0.  0.  0.  0.  0.  0.  0.]\n",
      "         [ 0.  0.  0.  0.  0.  0.  0.  0.  0.  0.]\n",
      "Meanings [ 0.  0.  0.  0.  0.  0.  0.  0.  0.  0.]\n",
      "         [ 0.  0.  0.  0.  0.  0.  0.  0.  0.  0.]\n",
      "         [ 0.  0.  0.  0.  0.  0.  0.  0.  0.  0.]]\n",
      "\n",
      "\n",
      "\n",
      "Agent ID: 7\n",
      "\n",
      "                          Words\n",
      "        [[ 0.  0.  0.  0.  0.  0.  0.  0.  0.  0.]\n",
      "         [ 0.  0.  0.  0.  0.  0.  0.  0.  0.  0.]\n",
      "Meanings [ 0.  0.  0.  0.  0.  0.  0.  0.  0.  0.]\n",
      "         [ 0.  0.  0.  0.  0.  0.  0.  0.  0.  0.]\n",
      "         [ 0.  0.  0.  0.  0.  0.  0.  0.  0.  0.]]\n",
      "\n",
      "\n",
      "\n",
      "Agent ID: 8\n",
      "\n",
      "                          Words\n",
      "        [[ 0.  0.  0.  0.  0.  0.  0.  0.  0.  0.]\n",
      "         [ 0.  0.  0.  0.  0.  0.  0.  0.  0.  0.]\n",
      "Meanings [ 0.  0.  0.  0.  0.  0.  0.  0.  0.  0.]\n",
      "         [ 0.  0.  0.  0.  0.  0.  0.  0.  0.  0.]\n",
      "         [ 0.  0.  0.  0.  0.  0.  0.  0.  0.  0.]]\n",
      "\n",
      "\n",
      "\n",
      "Agent ID: 9\n",
      "\n",
      "                          Words\n",
      "        [[ 0.  0.  0.  0.  0.  0.  0.  0.  0.  0.]\n",
      "         [ 0.  0.  0.  0.  0.  0.  0.  0.  0.  0.]\n",
      "Meanings [ 0.  0.  0.  0.  0.  0.  0.  0.  0.  0.]\n",
      "         [ 0.  0.  0.  0.  0.  0.  0.  0.  0.  0.]\n",
      "         [ 0.  0.  0.  0.  0.  0.  0.  0.  0.  0.]]\n",
      "\n",
      "\n",
      "\n",
      "Agent ID: 10\n",
      "\n",
      "                          Words\n",
      "        [[ 0.  0.  0.  0.  0.  0.  0.  0.  0.  0.]\n",
      "         [ 0.  0.  0.  0.  0.  0.  0.  0.  0.  0.]\n",
      "Meanings [ 0.  0.  0.  0.  0.  0.  0.  0.  0.  0.]\n",
      "         [ 0.  0.  0.  0.  0.  0.  0.  0.  0.  0.]\n",
      "         [ 0.  0.  0.  0.  0.  0.  0.  0.  0.  0.]]\n",
      "\n",
      "\n",
      "\n"
     ]
    }
   ],
   "source": [
    "print(testpop)\n",
    "print\n",
    "testpop.visual(vtype=\"agents\")"
   ]
  },
  {
   "cell_type": "code",
   "execution_count": 5,
   "metadata": {
    "collapsed": true
   },
   "outputs": [],
   "source": [
    "testpop.play_game(10)"
   ]
  },
  {
   "cell_type": "code",
   "execution_count": 6,
   "metadata": {
    "collapsed": false,
    "scrolled": false
   },
   "outputs": [
    {
     "name": "stdout",
     "output_type": "stream",
     "text": [
      "nbagent: 10\n",
      "[[ 0.   0.   0.   0.   0.2  0.   0.2  0.   0.   0. ]\n",
      " [ 0.   0.   0.   0.   0.2  0.   0.   0.   0.   0. ]\n",
      " [ 0.   0.   0.   0.   0.2  0.   0.   0.   0.   0.4]\n",
      " [ 0.2  0.   0.   0.2  0.   0.   0.   0.   0.   0. ]\n",
      " [ 0.   0.   0.   0.   0.   0.   0.   0.2  0.   0. ]]\n"
     ]
    },
    {
     "data": {
      "image/png": "[encoded data removed]",
      "text/plain": [
       "<matplotlib.figure.Figure at 0xae99c82c>"
      ]
     },
     "metadata": {},
     "output_type": "display_data"
    }
   ],
   "source": [
    "print(testpop)\n",
    "testpop.visual()"
   ]
  },
  {
   "cell_type": "code",
   "execution_count": 7,
   "metadata": {
    "collapsed": false
   },
   "outputs": [
    {
     "name": "stdout",
     "output_type": "stream",
     "text": [
      "Agent ID: 1\n",
      "\n",
      "                          Words\n",
      "        [[ 0.  0.  0.  0.  0.  0.  0.  0.  0.  0.]\n",
      "         [ 0.  0.  0.  0.  0.  0.  0.  0.  0.  0.]\n",
      "Meanings [ 0.  0.  0.  0.  0.  0.  0.  0.  0.  0.]\n",
      "         [ 0.  0.  0.  0.  0.  0.  0.  0.  0.  0.]\n",
      "         [ 0.  0.  0.  0.  0.  0.  0.  1.  0.  0.]]\n",
      "\n",
      "\n",
      "\n",
      "Agent ID: 2\n",
      "\n",
      "                          Words\n",
      "        [[ 0.  0.  0.  0.  0.  0.  0.  0.  0.  0.]\n",
      "         [ 0.  0.  0.  0.  0.  0.  0.  0.  0.  0.]\n",
      "Meanings [ 0.  0.  0.  0.  0.  0.  0.  0.  0.  1.]\n",
      "         [ 1.  0.  0.  0.  0.  0.  0.  0.  0.  0.]\n",
      "         [ 0.  0.  0.  0.  0.  0.  0.  0.  0.  0.]]\n",
      "\n",
      "\n",
      "\n",
      "Agent ID: 3\n",
      "\n",
      "                          Words\n",
      "        [[ 0.  0.  0.  0.  0.  0.  0.  0.  0.  0.]\n",
      "         [ 0.  0.  0.  0.  0.  0.  0.  0.  0.  0.]\n",
      "Meanings [ 0.  0.  0.  0.  0.  0.  0.  0.  0.  0.]\n",
      "         [ 0.  0.  0.  0.  0.  0.  0.  0.  0.  0.]\n",
      "         [ 0.  0.  0.  0.  0.  0.  0.  0.  0.  0.]]\n",
      "\n",
      "\n",
      "\n",
      "Agent ID: 4\n",
      "\n",
      "                          Words\n",
      "        [[ 0.  0.  0.  0.  0.  0.  1.  0.  0.  0.]\n",
      "         [ 0.  0.  0.  0.  0.  0.  0.  0.  0.  0.]\n",
      "Meanings [ 0.  0.  0.  0.  1.  0.  0.  0.  0.  1.]\n",
      "         [ 0.  0.  0.  0.  0.  0.  0.  0.  0.  0.]\n",
      "         [ 0.  0.  0.  0.  0.  0.  0.  1.  0.  0.]]\n",
      "\n",
      "\n",
      "\n",
      "Agent ID: 5\n",
      "\n",
      "                          Words\n",
      "        [[ 0.  0.  0.  0.  0.  0.  1.  0.  0.  0.]\n",
      "         [ 0.  0.  0.  0.  0.  0.  0.  0.  0.  0.]\n",
      "Meanings [ 0.  0.  0.  0.  1.  0.  0.  0.  0.  1.]\n",
      "         [ 0.  0.  0.  0.  0.  0.  0.  0.  0.  0.]\n",
      "         [ 0.  0.  0.  0.  0.  0.  0.  0.  0.  0.]]\n",
      "\n",
      "\n",
      "\n",
      "Agent ID: 6\n",
      "\n",
      "                          Words\n",
      "        [[ 0.  0.  0.  0.  0.  0.  0.  0.  0.  0.]\n",
      "         [ 0.  0.  0.  0.  1.  0.  0.  0.  0.  0.]\n",
      "Meanings [ 0.  0.  0.  0.  0.  0.  0.  0.  0.  0.]\n",
      "         [ 0.  0.  0.  1.  0.  0.  0.  0.  0.  0.]\n",
      "         [ 0.  0.  0.  0.  0.  0.  0.  0.  0.  0.]]\n",
      "\n",
      "\n",
      "\n",
      "Agent ID: 7\n",
      "\n",
      "                          Words\n",
      "        [[ 0.  0.  0.  0.  1.  0.  0.  0.  0.  0.]\n",
      "         [ 0.  0.  0.  0.  0.  0.  0.  0.  0.  0.]\n",
      "Meanings [ 0.  0.  0.  0.  0.  0.  0.  0.  0.  1.]\n",
      "         [ 0.  0.  0.  0.  0.  0.  0.  0.  0.  0.]\n",
      "         [ 0.  0.  0.  0.  0.  0.  0.  0.  0.  0.]]\n",
      "\n",
      "\n",
      "\n",
      "Agent ID: 8\n",
      "\n",
      "                          Words\n",
      "        [[ 0.  0.  0.  0.  0.  0.  0.  0.  0.  0.]\n",
      "         [ 0.  0.  0.  0.  1.  0.  0.  0.  0.  0.]\n",
      "Meanings [ 0.  0.  0.  0.  0.  0.  0.  0.  0.  0.]\n",
      "         [ 1.  0.  0.  1.  0.  0.  0.  0.  0.  0.]\n",
      "         [ 0.  0.  0.  0.  0.  0.  0.  0.  0.  0.]]\n",
      "\n",
      "\n",
      "\n",
      "Agent ID: 9\n",
      "\n",
      "                          Words\n",
      "        [[ 0.  0.  0.  0.  0.  0.  0.  0.  0.  0.]\n",
      "         [ 0.  0.  0.  0.  0.  0.  0.  0.  0.  0.]\n",
      "Meanings [ 0.  0.  0.  0.  0.  0.  0.  0.  0.  0.]\n",
      "         [ 0.  0.  0.  0.  0.  0.  0.  0.  0.  0.]\n",
      "         [ 0.  0.  0.  0.  0.  0.  0.  0.  0.  0.]]\n",
      "\n",
      "\n",
      "\n",
      "Agent ID: 10\n",
      "\n",
      "                          Words\n",
      "        [[ 0.  0.  0.  0.  1.  0.  0.  0.  0.  0.]\n",
      "         [ 0.  0.  0.  0.  0.  0.  0.  0.  0.  0.]\n",
      "Meanings [ 0.  0.  0.  0.  0.  0.  0.  0.  0.  0.]\n",
      "         [ 0.  0.  0.  0.  0.  0.  0.  0.  0.  0.]\n",
      "         [ 0.  0.  0.  0.  0.  0.  0.  0.  0.  0.]]\n",
      "\n",
      "\n",
      "\n"
     ]
    }
   ],
   "source": [
    "testpop.visual(vtype=\"agents\")"
   ]
  },
  {
   "cell_type": "code",
   "execution_count": null,
   "metadata": {
    "collapsed": true
   },
   "outputs": [],
   "source": []
  },
  {
   "cell_type": "code",
   "execution_count": null,
   "metadata": {
    "collapsed": true
   },
   "outputs": [],
   "source": []
  }
 ],
 "metadata": {
  "kernelspec": {
   "display_name": "Python 2",
   "language": "python",
   "name": "python2"
  },
  "language_info": {
   "codemirror_mode": {
    "name": "ipython",
    "version": 2
   },
   "file_extension": ".py",
   "mimetype": "text/x-python",
   "name": "python",
   "nbconvert_exporter": "python",
   "pygments_lexer": "ipython2",
   "version": "2.7.6"
  }
 },
 "nbformat": 4,
 "nbformat_minor": 0
}
