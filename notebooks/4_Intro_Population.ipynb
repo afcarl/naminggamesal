{
 "cells": [
  {
   "cell_type": "code",
   "execution_count": 1,
   "metadata": {
    "collapsed": false
   },
   "outputs": [
    {
     "name": "stderr",
     "output_type": "stream",
     "text": [
      "/usr/local/lib/python2.7/dist-packages/matplotlib/font_manager.py:273: UserWarning: Matplotlib is building the font cache using fc-list. This may take a moment.\n",
      "  warnings.warn('Matplotlib is building the font cache using fc-list. This may take a moment.')\n",
      "/usr/local/lib/python2.7/dist-packages/matplotlib/__init__.py:872: UserWarning: axes.color_cycle is deprecated and replaced with axes.prop_cycle; please use the latter.\n",
      "  warnings.warn(self.msg_depr % (key, alt_key))\n"
     ]
    }
   ],
   "source": [
    "import sys\n",
    "import seaborn as sns\n",
    "sys.path.append(\"..\")\n",
    "%matplotlib inline\n",
    "sns.set(rc={'image.cmap': 'Purples_r'})"
   ]
  },
  {
   "cell_type": "markdown",
   "metadata": {},
   "source": [
    "##Populations"
   ]
  },
  {
   "cell_type": "code",
   "execution_count": 2,
   "metadata": {
    "collapsed": false
   },
   "outputs": [],
   "source": [
    "import naminggamesal.ngpop as ngpop"
   ]
  },
  {
   "cell_type": "markdown",
   "metadata": {
    "collapsed": true
   },
   "source": [
    "Let's create a population. Agent creation is here dealt with automatically. Still, it is possible to manually add or remove agents (Hence the IDs of the agents), what will be seen later."
   ]
  },
  {
   "cell_type": "code",
   "execution_count": 28,
   "metadata": {
    "collapsed": false
   },
   "outputs": [
    {
     "data": {
      "text/plain": [
       "<naminggamesal.ngpop.population.Population at 0x7f20fb8d9a50>"
      ]
     },
     "execution_count": 28,
     "metadata": {},
     "output_type": "execute_result"
    }
   ],
   "source": [
    "pop_cfg={\n",
    "    'voc_cfg':{\n",
    "        'voc_type':'matrix',\n",
    "        'M':5,\n",
    "        'W':10\n",
    "        },\n",
    "    'strat_cfg':{\n",
    "        'strat_type':'naive',\n",
    "        'vu_cfg':{'vu_type':'BLIS_epirob'}\n",
    "        },\n",
    "    'interact_cfg':{\n",
    "        'interact_type':'speakerschoice'\n",
    "        },\n",
    "    'nbagent':5\n",
    "    }\n",
    "\n",
    "\n",
    "testpop=ngpop.Population(**pop_cfg)\n",
    "testpop"
   ]
  },
  {
   "cell_type": "code",
   "execution_count": 29,
   "metadata": {
    "collapsed": false
   },
   "outputs": [
    {
     "name": "stdout",
     "output_type": "stream",
     "text": [
      "nbagent: 5\n",
      "[[ 0.  0.  0.  0.  0.  0.  0.  0.  0.  0.]\n",
      " [ 0.  0.  0.  0.  0.  0.  0.  0.  0.  0.]\n",
      " [ 0.  0.  0.  0.  0.  0.  0.  0.  0.  0.]\n",
      " [ 0.  0.  0.  0.  0.  0.  0.  0.  0.  0.]\n",
      " [ 0.  0.  0.  0.  0.  0.  0.  0.  0.  0.]]\n",
      "\n",
      "Agent ID: 40d3d078-42c3-11e6-98c1-3cd92b6a6473\n",
      "\n",
      "                          Words\n",
      "        [[ 0.  0.  0.  0.  0.  0.  0.  0.  0.  0.]\n",
      "         [ 0.  0.  0.  0.  0.  0.  0.  0.  0.  0.]\n",
      "Meanings [ 0.  0.  0.  0.  0.  0.  0.  0.  0.  0.]\n",
      "         [ 0.  0.  0.  0.  0.  0.  0.  0.  0.  0.]\n",
      "         [ 0.  0.  0.  0.  0.  0.  0.  0.  0.  0.]]\n",
      "\n",
      "\n",
      "\n",
      "Agent ID: 40d3d82a-42c3-11e6-98c1-3cd92b6a6473\n",
      "\n",
      "                          Words\n",
      "        [[ 0.  0.  0.  0.  0.  0.  0.  0.  0.  0.]\n",
      "         [ 0.  0.  0.  0.  0.  0.  0.  0.  0.  0.]\n",
      "Meanings [ 0.  0.  0.  0.  0.  0.  0.  0.  0.  0.]\n",
      "         [ 0.  0.  0.  0.  0.  0.  0.  0.  0.  0.]\n",
      "         [ 0.  0.  0.  0.  0.  0.  0.  0.  0.  0.]]\n",
      "\n",
      "\n",
      "\n",
      "Agent ID: 40d3dc9e-42c3-11e6-98c1-3cd92b6a6473\n",
      "\n",
      "                          Words\n",
      "        [[ 0.  0.  0.  0.  0.  0.  0.  0.  0.  0.]\n",
      "         [ 0.  0.  0.  0.  0.  0.  0.  0.  0.  0.]\n",
      "Meanings [ 0.  0.  0.  0.  0.  0.  0.  0.  0.  0.]\n",
      "         [ 0.  0.  0.  0.  0.  0.  0.  0.  0.  0.]\n",
      "         [ 0.  0.  0.  0.  0.  0.  0.  0.  0.  0.]]\n",
      "\n",
      "\n",
      "\n",
      "Agent ID: 40d3e0fe-42c3-11e6-98c1-3cd92b6a6473\n",
      "\n",
      "                          Words\n",
      "        [[ 0.  0.  0.  0.  0.  0.  0.  0.  0.  0.]\n",
      "         [ 0.  0.  0.  0.  0.  0.  0.  0.  0.  0.]\n",
      "Meanings [ 0.  0.  0.  0.  0.  0.  0.  0.  0.  0.]\n",
      "         [ 0.  0.  0.  0.  0.  0.  0.  0.  0.  0.]\n",
      "         [ 0.  0.  0.  0.  0.  0.  0.  0.  0.  0.]]\n",
      "\n",
      "\n",
      "\n",
      "Agent ID: 40d3e55e-42c3-11e6-98c1-3cd92b6a6473\n",
      "\n",
      "                          Words\n",
      "        [[ 0.  0.  0.  0.  0.  0.  0.  0.  0.  0.]\n",
      "         [ 0.  0.  0.  0.  0.  0.  0.  0.  0.  0.]\n",
      "Meanings [ 0.  0.  0.  0.  0.  0.  0.  0.  0.  0.]\n",
      "         [ 0.  0.  0.  0.  0.  0.  0.  0.  0.  0.]\n",
      "         [ 0.  0.  0.  0.  0.  0.  0.  0.  0.  0.]]\n",
      "\n",
      "\n",
      "\n"
     ]
    }
   ],
   "source": [
    "print(testpop)\n",
    "print\n",
    "testpop.visual(vtype=\"agents\")"
   ]
  },
  {
   "cell_type": "code",
   "execution_count": 32,
   "metadata": {
    "collapsed": false
   },
   "outputs": [],
   "source": [
    "testpop.play_game(100)"
   ]
  },
  {
   "cell_type": "code",
   "execution_count": 33,
   "metadata": {
    "collapsed": false,
    "scrolled": false
   },
   "outputs": [
    {
     "name": "stdout",
     "output_type": "stream",
     "text": [
      "nbagent: 5\n",
      "[[ 0.  1.  0.  0.  0.  0.  0.  0.  0.  0.]\n",
      " [ 0.  0.  0.  0.  1.  0.  0.  0.  0.  0.]\n",
      " [ 0.  0.  0.  0.  0.  0.  0.  1.  0.  0.]\n",
      " [ 0.  0.  0.  1.  0.  0.  0.  0.  0.  0.]\n",
      " [ 0.  0.  0.  0.  0.  0.  0.  0.  1.  0.]]\n"
     ]
    },
    {
     "data": {
      "image/png": "[encoded data removed]",
      "text/plain": [
       "<matplotlib.figure.Figure at 0x7f20fb9446d0>"
      ]
     },
     "metadata": {},
     "output_type": "display_data"
    }
   ],
   "source": [
    "print(testpop)\n",
    "testpop.visual()"
   ]
  },
  {
   "cell_type": "code",
   "execution_count": 11,
   "metadata": {
    "collapsed": false
   },
   "outputs": [
    {
     "name": "stdout",
     "output_type": "stream",
     "text": [
      "Agent ID: 783e4268-a265-11e5-9504-3cd92b6a6473\n",
      "\n",
      "                               Words\n",
      "        [[ 0.   0.   0.   0.   0.   0.   0.   0.5  0.   0. ]\n",
      "         [ 0.3  0.   0.   0.   0.   0.   0.   0.   0.   0. ]\n",
      "Meanings [ 0.   0.   0.   0.   0.   0.   0.3  0.   0.   0. ]\n",
      "         [ 0.   0.   0.   0.   0.5  0.   0.   0.   0.6  0. ]\n",
      "         [ 0.   0.   0.   0.   0.   0.   0.   0.   0.   0. ]]\n",
      "\n",
      "\n",
      "\n",
      "Agent ID: 783f9758-a265-11e5-9504-3cd92b6a6473\n",
      "\n",
      "                               Words\n",
      "        [[ 0.   0.5  0.   0.   0.   0.   0.   0.   0.   0. ]\n",
      "         [ 0.5  0.   0.   0.   0.   0.   0.   0.   0.   0. ]\n",
      "Meanings [ 0.   0.   0.3  0.   0.   0.   0.6  0.   0.   0. ]\n",
      "         [ 0.   0.   0.   0.   0.   0.   0.   0.   0.6  0. ]\n",
      "         [ 0.   0.   0.   0.   0.   0.   0.   0.   0.   0. ]]\n",
      "\n",
      "\n",
      "\n",
      "Agent ID: 78408b72-a265-11e5-9504-3cd92b6a6473\n",
      "\n",
      "                               Words\n",
      "        [[ 0.   0.5  0.   0.   0.   0.   0.   0.5  0.   0. ]\n",
      "         [ 0.5  0.   0.   0.   0.   0.   0.   0.   0.   0. ]\n",
      "Meanings [ 0.   0.   0.3  0.   0.   0.   0.6  0.   0.   0. ]\n",
      "         [ 0.   0.   0.   0.   0.5  0.   0.   0.   0.   0. ]\n",
      "         [ 0.   0.   0.   0.   0.   0.   0.   0.   0.   0. ]]\n",
      "\n",
      "\n",
      "\n"
     ]
    }
   ],
   "source": [
    "testpop.visual(vtype=\"agents\")"
   ]
  },
  {
   "cell_type": "code",
   "execution_count": 15,
   "metadata": {
    "collapsed": false
   },
   "outputs": [
    {
     "data": {
      "text/plain": [
       "matrix([[ 0. ,  0. ,  0. ,  0. ,  0. ,  0. ,  0. ,  0. ,  0. ,  0.5],\n",
       "        [ 0. ,  0. ,  0. ,  0. ,  0. ,  0.4,  0. ,  0. ,  0. ,  0. ],\n",
       "        [ 0. ,  0. ,  0. ,  1. ,  0. ,  0. ,  0. ,  0. ,  0. ,  0. ],\n",
       "        [ 0. ,  0. ,  0. ,  0. ,  0. ,  0. ,  0. ,  0. ,  0. ,  0. ],\n",
       "        [ 0. ,  0. ,  0. ,  0. ,  0. ,  0. ,  0. ,  0. ,  1. ,  0. ]])"
      ]
     },
     "execution_count": 15,
     "metadata": {},
     "output_type": "execute_result"
    }
   ],
   "source": [
    "testpop._agentlist[0]._vocabulary._content"
   ]
  },
  {
   "cell_type": "code",
   "execution_count": 28,
   "metadata": {
    "collapsed": true
   },
   "outputs": [],
   "source": [
    "testpop._agentlist[0]._vocabulary.add(0,0,0.5)"
   ]
  },
  {
   "cell_type": "code",
   "execution_count": null,
   "metadata": {
    "collapsed": true
   },
   "outputs": [],
   "source": []
  }
 ],
 "metadata": {
  "kernelspec": {
   "display_name": "Python 2",
   "language": "python",
   "name": "python2"
  },
  "language_info": {
   "codemirror_mode": {
    "name": "ipython",
    "version": 2
   },
   "file_extension": ".py",
   "mimetype": "text/x-python",
   "name": "python",
   "nbconvert_exporter": "python",
   "pygments_lexer": "ipython2",
   "version": "2.7.6"
  }
 },
 "nbformat": 4,
 "nbformat_minor": 0
}
