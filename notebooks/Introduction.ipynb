{
 "cells": [
  {
   "cell_type": "code",
   "execution_count": 1,
   "metadata": {
    "collapsed": true
   },
   "outputs": [],
   "source": [
    "import sys\n",
    "sys.path.append(\"..\")"
   ]
  },
  {
   "cell_type": "markdown",
   "metadata": {
    "collapsed": false
   },
   "source": [
    "#Introducing the objects\n",
    "Here we will introduce the different objects involved in the Naming Games models we are using. You can go directly to subsections and execute the code from there, they are independant."
   ]
  },
  {
   "cell_type": "markdown",
   "metadata": {},
   "source": [
    "##Vocabulary\n",
    "First object is the vocabulary. It represents a lexical description of objects. That is to say, associations between $\\textit{words}$ and $\\textit{meanings}$. Here we consider vocabularies as being matrices filled with 0s or 1s, of size (\\#meanings,\\#words). The words and meanings are here symbolic, it means they can be refered to only by their respective column (for words) or line (for meanings) number in the matrix."
   ]
  },
  {
   "cell_type": "code",
   "execution_count": 2,
   "metadata": {
    "collapsed": false
   },
   "outputs": [],
   "source": [
    "import lib.ngvoc as ngvoc"
   ]
  },
  {
   "cell_type": "markdown",
   "metadata": {
    "collapsed": true
   },
   "source": [
    "We create an object vocabulary, of type sparse (other possible: \"matrix\", only the way information is stored changes), and size M=5,W=10"
   ]
  },
  {
   "cell_type": "code",
   "execution_count": 3,
   "metadata": {
    "collapsed": true
   },
   "outputs": [],
   "source": [
    "voctype=\"sparse\"\n",
    "M=5\n",
    "W=10\n",
    "voctest=ngvoc.Vocabulary(voctype,M,W)"
   ]
  },
  {
   "cell_type": "code",
   "execution_count": 4,
   "metadata": {
    "collapsed": false
   },
   "outputs": [
    {
     "data": {
      "text/plain": [
       "<lib.ngvoc.VocSparse at 0xb118530c>"
      ]
     },
     "execution_count": 4,
     "metadata": {},
     "output_type": "execute_result"
    }
   ],
   "source": [
    "voctest"
   ]
  },
  {
   "cell_type": "markdown",
   "metadata": {},
   "source": [
    "It is initiated completely empty."
   ]
  },
  {
   "cell_type": "code",
   "execution_count": 5,
   "metadata": {
    "collapsed": false
   },
   "outputs": [
    {
     "name": "stdout",
     "output_type": "stream",
     "text": [
      "[[ 0.  0.  0.  0.  0.  0.  0.  0.  0.  0.]\n",
      " [ 0.  0.  0.  0.  0.  0.  0.  0.  0.  0.]\n",
      " [ 0.  0.  0.  0.  0.  0.  0.  0.  0.  0.]\n",
      " [ 0.  0.  0.  0.  0.  0.  0.  0.  0.  0.]\n",
      " [ 0.  0.  0.  0.  0.  0.  0.  0.  0.  0.]]\n"
     ]
    }
   ],
   "source": [
    "print(voctest)"
   ]
  },
  {
   "cell_type": "markdown",
   "metadata": {},
   "source": [
    "###Manipulate the vocabulary\n",
    "We can then <u>add</u> an association between meaning 3 and word 4 (of value 1). This means that to refer to meaning 3, an agent using this vocabulary would use word 4."
   ]
  },
  {
   "cell_type": "code",
   "execution_count": 6,
   "metadata": {
    "collapsed": false
   },
   "outputs": [
    {
     "name": "stdout",
     "output_type": "stream",
     "text": [
      "[[ 0.  1.  0.  0.  0.  0.  0.  0.  0.  0.]\n",
      " [ 0.  0.  0.  0.  0.  0.  0.  0.  0.  0.]\n",
      " [ 0.  0.  0.  0.  0.  0.  0.  0.  0.  0.]\n",
      " [ 0.  0.  0.  0.  0.  0.  0.  0.  0.  0.]\n",
      " [ 0.  0.  0.  0.  0.  0.  0.  0.  0.  0.]]\n"
     ]
    }
   ],
   "source": [
    "voctest.add(0,1,1)\n",
    "print(voctest)"
   ]
  },
  {
   "cell_type": "markdown",
   "metadata": {},
   "source": [
    "To remove the link, simply add it with value 0."
   ]
  },
  {
   "cell_type": "code",
   "execution_count": 7,
   "metadata": {
    "collapsed": false
   },
   "outputs": [
    {
     "name": "stdout",
     "output_type": "stream",
     "text": [
      "[[ 0.  1.  0.  0.  0.  0.  0.  0.  0.  0.]\n",
      " [ 0.  0.  0.  0.  0.  0.  0.  0.  0.  0.]\n",
      " [ 0.  0.  0.  0.  0.  0.  0.  0.  0.  0.]\n",
      " [ 0.  0.  0.  0.  0.  0.  0.  0.  0.  0.]\n",
      " [ 0.  0.  0.  0.  0.  0.  0.  0.  0.  0.]]\n"
     ]
    }
   ],
   "source": [
    "voctest.add(3,4,0)\n",
    "print(voctest)"
   ]
  },
  {
   "cell_type": "markdown",
   "metadata": {},
   "source": [
    "Let's <u>fill</u> the entire matrix with ones"
   ]
  },
  {
   "cell_type": "code",
   "execution_count": 8,
   "metadata": {
    "collapsed": false
   },
   "outputs": [
    {
     "name": "stdout",
     "output_type": "stream",
     "text": [
      "[[ 1.  1.  1.  1.  1.  1.  1.  1.  1.  1.]\n",
      " [ 1.  1.  1.  1.  1.  1.  1.  1.  1.  1.]\n",
      " [ 1.  1.  1.  1.  1.  1.  1.  1.  1.  1.]\n",
      " [ 1.  1.  1.  1.  1.  1.  1.  1.  1.  1.]\n",
      " [ 1.  1.  1.  1.  1.  1.  1.  1.  1.  1.]]\n"
     ]
    }
   ],
   "source": [
    "voctest.fill()\n",
    "print(voctest)"
   ]
  },
  {
   "cell_type": "markdown",
   "metadata": {},
   "source": [
    "We can <u>remove homonyms or synonyms</u> of a meaning/word association"
   ]
  },
  {
   "cell_type": "code",
   "execution_count": 9,
   "metadata": {
    "collapsed": false
   },
   "outputs": [
    {
     "name": "stdout",
     "output_type": "stream",
     "text": [
      "[[ 1.  1.  0.  1.  1.  1.  1.  1.  1.  1.]\n",
      " [ 1.  1.  0.  1.  1.  1.  1.  1.  1.  1.]\n",
      " [ 1.  1.  1.  1.  1.  1.  1.  1.  1.  1.]\n",
      " [ 1.  1.  0.  1.  1.  1.  1.  1.  1.  1.]\n",
      " [ 1.  1.  0.  1.  1.  1.  1.  1.  1.  1.]]\n"
     ]
    }
   ],
   "source": [
    "voctest.rm_hom(2,2)\n",
    "print(voctest)"
   ]
  },
  {
   "cell_type": "code",
   "execution_count": 10,
   "metadata": {
    "collapsed": false
   },
   "outputs": [
    {
     "name": "stdout",
     "output_type": "stream",
     "text": [
      "[[ 1.  1.  1.  1.  1.  1.  1.  1.  1.  1.]\n",
      " [ 1.  1.  1.  1.  1.  1.  1.  1.  1.  1.]\n",
      " [ 1.  1.  1.  1.  1.  1.  1.  1.  1.  1.]\n",
      " [ 0.  0.  0.  0.  1.  0.  0.  0.  0.  0.]\n",
      " [ 1.  1.  1.  1.  1.  1.  1.  1.  1.  1.]]\n"
     ]
    }
   ],
   "source": [
    "voctest.fill()\n",
    "voctest.rm_syn(3,4)\n",
    "print(voctest)"
   ]
  },
  {
   "cell_type": "markdown",
   "metadata": {},
   "source": [
    "###Useful functions\n",
    "Such as finding special subsets of meanings or words, and picking meanings and words among them. First we initialize a random vocabulary, and then apply all the functions."
   ]
  },
  {
   "cell_type": "code",
   "execution_count": 11,
   "metadata": {
    "collapsed": false
   },
   "outputs": [
    {
     "name": "stdout",
     "output_type": "stream",
     "text": [
      "[[ 0.  0.  1.  0.  1.  0.  0.  0.  1.  1.]\n",
      " [ 1.  1.  1.  0.  0.  0.  1.  0.  1.  1.]\n",
      " [ 0.  0.  1.  0.  1.  0.  0.  0.  0.  1.]\n",
      " [ 1.  1.  0.  0.  1.  0.  0.  1.  0.  0.]\n",
      " [ 0.  1.  1.  1.  0.  0.  0.  0.  0.  0.]]\n"
     ]
    }
   ],
   "source": [
    "%matplotlib inline\n",
    "import random\n",
    "import matplotlib.pyplot as plt\n",
    "voctype=\"sparse\"\n",
    "M=5\n",
    "W=10\n",
    "nlink=25\n",
    "\n",
    "voctest2=ngvoc.Vocabulary(voctype,M,W)\n",
    "for i in range(0,nlink):\n",
    "    voctest2.add(random.randint(0,M-1),random.randint(0,W-1),1)\n",
    "print(voctest2)"
   ]
  },
  {
   "cell_type": "markdown",
   "metadata": {},
   "source": [
    "Here you can modify the $voctest2$ variable by hand before executing the code:"
   ]
  },
  {
   "cell_type": "code",
   "execution_count": 12,
   "metadata": {
    "collapsed": true
   },
   "outputs": [],
   "source": [
    "#voctest2.add(0,0,1)\n",
    "#voctest2.add(0,0,0)"
   ]
  },
  {
   "cell_type": "code",
   "execution_count": 13,
   "metadata": {
    "collapsed": false
   },
   "outputs": [
    {
     "name": "stdout",
     "output_type": "stream",
     "text": [
      "Vocabulary:\n",
      "[[ 0.  0.  1.  0.  1.  0.  0.  0.  1.  1.]\n",
      " [ 1.  1.  1.  0.  0.  0.  1.  0.  1.  1.]\n",
      " [ 0.  0.  1.  0.  1.  0.  0.  0.  0.  1.]\n",
      " [ 1.  1.  0.  0.  1.  0.  0.  1.  0.  0.]\n",
      " [ 0.  1.  1.  1.  0.  0.  0.  0.  0.  0.]]\n",
      "\n",
      "Known words:\n",
      "[0, 1, 2, 3, 4, 6, 7, 8, 9]\n",
      "Random known word:\n",
      "4\n",
      "\n",
      "Unknown words:\n",
      "[5]\n",
      "New unknown word:\n",
      "5\n",
      "\n",
      "Known meanings:\n",
      "[0, 1, 2, 3, 4]\n",
      "Random known meaning:\n",
      "4\n",
      "\n",
      "Unknown meanings:\n",
      "[]\n",
      "New unknown meaning:\n",
      "tried to get new m but all are known\n",
      "2\n",
      "\n",
      "\n",
      "Known words for meaning 1:\n",
      "[0, 1, 2, 6, 8, 9]\n",
      "Random known word for meaning 1:\n",
      "2\n",
      "\n",
      "Unknown words for meaning 1:\n",
      "[3, 4, 5, 7]\n",
      "\n",
      "Known meanings for word 2:\n",
      "[0, 1, 2, 4]\n",
      "Random known meaning for word 2:\n",
      "0\n",
      "\n",
      "Unknown meanings for word 2:\n",
      "[3]\n"
     ]
    }
   ],
   "source": [
    "print(\"Vocabulary:\")\n",
    "print(voctest2)\n",
    "print(\"\")\n",
    "\n",
    "print(\"Known words:\")\n",
    "print(voctest2.get_known_words())\n",
    "print(\"Random known word:\")\n",
    "print(voctest2.get_random_known_w())\n",
    "print(\"\")\n",
    "print(\"Unknown words:\")\n",
    "print(voctest2.get_unknown_words())\n",
    "print(\"New unknown word:\")\n",
    "print(voctest2.get_new_unknown_w())\n",
    "print(\"\")\n",
    "print(\"Known meanings:\")\n",
    "print(voctest2.get_known_meanings())\n",
    "print(\"Random known meaning:\")\n",
    "print(voctest2.get_random_known_m())\n",
    "\n",
    "print(\"\")\n",
    "print(\"Unknown meanings:\")\n",
    "print(voctest2.get_unknown_meanings())\n",
    "print(\"New unknown meaning:\")\n",
    "print(voctest2.get_new_unknown_m())\n",
    "print(\"\")\n",
    "print(\"\")\n",
    "print(\"Known words for meaning 1:\")\n",
    "print(voctest2.get_known_words(1))\n",
    "print(\"Random known word for meaning 1:\")\n",
    "print(voctest2.get_random_known_w(1))\n",
    "print(\"\")\n",
    "print(\"Unknown words for meaning 1:\")\n",
    "print(voctest2.get_unknown_words(1))\n",
    "print(\"\")\n",
    "print(\"Known meanings for word 2:\")\n",
    "print(voctest2.get_known_meanings(2))\n",
    "print(\"Random known meaning for word 2:\")\n",
    "print(voctest2.get_random_known_m(2))\n",
    "print(\"\")\n",
    "print(\"Unknown meanings for word 2:\")\n",
    "print(voctest2.get_unknown_meanings(2))\n"
   ]
  },
  {
   "cell_type": "markdown",
   "metadata": {},
   "source": [
    "We introduce here a representation of the degree of synonymy/homonymy of the vocabulary. Colors are the same on a line/column. Cold colors indicate high degree of synonymy/homonymy, warm ones low degree."
   ]
  },
  {
   "cell_type": "code",
   "execution_count": 14,
   "metadata": {
    "collapsed": false
   },
   "outputs": [
    {
     "data": {
      "image/png": "[encoded data removed]",
      "text/plain": [
       "<matplotlib.figure.Figure at 0xb118548c>"
      ]
     },
     "metadata": {},
     "output_type": "display_data"
    },
    {
     "data": {
      "image/png": "[encoded data removed]",
      "text/plain": [
       "<matplotlib.figure.Figure at 0xb02caeac>"
      ]
     },
     "metadata": {},
     "output_type": "display_data"
    }
   ],
   "source": [
    "voctest2.visual(vtype=\"hom\")\n",
    "plt.figure()\n",
    "voctest2.visual(vtype=\"syn\")"
   ]
  },
  {
   "cell_type": "markdown",
   "metadata": {},
   "source": [
    "##Strategies\n",
    "The strategy object describes the behaviour of an agent, given its vocabulary. The main algorithms that vary among strategies are:\n",
    "* how to choose a link (meaning-word) to enact, \n",
    "* how to guess a meaning from a word\n",
    "* how to update the vocabulary"
   ]
  },
  {
   "cell_type": "code",
   "execution_count": 15,
   "metadata": {
    "collapsed": true
   },
   "outputs": [],
   "source": [
    "import lib.ngstrat as ngstrat"
   ]
  },
  {
   "cell_type": "markdown",
   "metadata": {},
   "source": [
    "Let's create a strategy. We will also need two vocabularies to work on (speaker and hearer). Strategy types will be described in another Notebook."
   ]
  },
  {
   "cell_type": "code",
   "execution_count": 16,
   "metadata": {
    "collapsed": false
   },
   "outputs": [
    {
     "name": "stdout",
     "output_type": "stream",
     "text": [
      "Speaker:\n",
      "[[ 0.  0.  0.  0.  0.  0.  0.  0.  0.  0.]\n",
      " [ 0.  0.  0.  0.  0.  0.  0.  0.  0.  0.]\n",
      " [ 0.  0.  0.  0.  0.  0.  0.  0.  0.  0.]\n",
      " [ 0.  0.  0.  0.  0.  0.  0.  0.  0.  0.]\n",
      " [ 0.  0.  0.  0.  0.  0.  0.  0.  0.  0.]]\n",
      " \n",
      "Hearer:\n",
      "[[ 0.  0.  0.  0.  0.  0.  0.  0.  0.  0.]\n",
      " [ 0.  0.  0.  0.  0.  0.  0.  0.  0.  0.]\n",
      " [ 0.  0.  0.  0.  0.  0.  0.  0.  0.  0.]\n",
      " [ 0.  0.  0.  0.  0.  0.  0.  0.  0.  0.]\n",
      " [ 0.  0.  0.  0.  0.  0.  0.  0.  0.  0.]]\n"
     ]
    }
   ],
   "source": [
    "M=5\n",
    "W=10\n",
    "\n",
    "voctype=\"sparse\"\n",
    "nlink=0\n",
    "\n",
    "voctest_speaker=ngstrat.Vocabulary(voctype,M,W)\n",
    "for i in range(0,nlink):\n",
    "    voctest_speaker.add(random.randint(0,M-1),random.randint(0,W-1),1)\n",
    "    \n",
    "voctest_hearer=ngstrat.Vocabulary(voctype,M,W)\n",
    "for i in range(0,nlink):\n",
    "    voctest_hearer.add(random.randint(0,M-1),random.randint(0,W-1),1)\n",
    "\n",
    "print(\"Speaker:\")\n",
    "print(voctest_speaker)\n",
    "print(\" \")\n",
    "print(\"Hearer:\")\n",
    "print(voctest_hearer)"
   ]
  },
  {
   "cell_type": "code",
   "execution_count": 17,
   "metadata": {
    "collapsed": false
   },
   "outputs": [
    {
     "data": {
      "text/plain": [
       "<lib.ngstrat.StratNaiveReal at 0xb0247c4c>"
      ]
     },
     "execution_count": 17,
     "metadata": {},
     "output_type": "execute_result"
    }
   ],
   "source": [
    "\n",
    "strat={\"strattype\":\"naivereal\"}\n",
    "\n",
    "teststrat=ngstrat.Strategy(strat)\n",
    "teststrat"
   ]
  },
  {
   "cell_type": "markdown",
   "metadata": {},
   "source": [
    "Now that we have a strategy, we can test the different functions. Exec\n",
    "\n",
    "!! Vocabularies are modified, but this way you can observe progressive growth of the number of links !!"
   ]
  },
  {
   "cell_type": "code",
   "execution_count": 18,
   "metadata": {
    "collapsed": false
   },
   "outputs": [
    {
     "name": "stdout",
     "output_type": "stream",
     "text": [
      "Initial vocabulary of the speaker:\n",
      "[[ 0.  0.  0.  0.  0.  0.  0.  0.  0.  0.]\n",
      " [ 0.  0.  0.  0.  0.  0.  0.  0.  0.  0.]\n",
      " [ 0.  0.  0.  0.  0.  0.  0.  0.  0.  0.]\n",
      " [ 0.  0.  0.  0.  0.  0.  0.  0.  0.  0.]\n",
      " [ 0.  0.  0.  0.  0.  0.  0.  0.  0.  0.]]\n",
      " \n",
      "Initial vocabulary of the hearer:\n",
      "[[ 0.  0.  0.  0.  0.  0.  0.  0.  0.  0.]\n",
      " [ 0.  0.  0.  0.  0.  0.  0.  0.  0.  0.]\n",
      " [ 0.  0.  0.  0.  0.  0.  0.  0.  0.  0.]\n",
      " [ 0.  0.  0.  0.  0.  0.  0.  0.  0.  0.]\n",
      " [ 0.  0.  0.  0.  0.  0.  0.  0.  0.  0.]]\n",
      " \n",
      "Meaning chosen by speaker:\n",
      "3\n",
      " \n",
      "Word uttered by speaker:\n",
      "9\n",
      " \n",
      "Meaning interpreted by hearer:\n",
      "3\n",
      " \n",
      "Success!\n",
      " \n",
      "Updated vocabulary of the speaker:\n",
      "[[ 0.  0.  0.  0.  0.  0.  0.  0.  0.  0.]\n",
      " [ 0.  0.  0.  0.  0.  0.  0.  0.  0.  0.]\n",
      " [ 0.  0.  0.  0.  0.  0.  0.  0.  0.  0.]\n",
      " [ 0.  0.  0.  0.  0.  0.  0.  0.  0.  1.]\n",
      " [ 0.  0.  0.  0.  0.  0.  0.  0.  0.  0.]]\n",
      " \n",
      "Updated vocabulary of the hearer:\n",
      "[[ 0.  0.  0.  0.  0.  0.  0.  0.  0.  0.]\n",
      " [ 0.  0.  0.  0.  0.  0.  0.  0.  0.  0.]\n",
      " [ 0.  0.  0.  0.  0.  0.  0.  0.  0.  0.]\n",
      " [ 0.  0.  0.  0.  0.  0.  0.  0.  0.  1.]\n",
      " [ 0.  0.  0.  0.  0.  0.  0.  0.  0.  0.]]\n"
     ]
    }
   ],
   "source": [
    "memory=teststrat.init_memory(voctest) #Not important for the naive strategy, here it simply is {}\n",
    "\n",
    "\n",
    "print(\"Initial vocabulary of the speaker:\")\n",
    "print(voctest_speaker)\n",
    "print(\" \")\n",
    "print(\"Initial vocabulary of the hearer:\")\n",
    "print(voctest_hearer)\n",
    "print(\" \")\n",
    "\n",
    "mw=teststrat.pick_mw(voctest_speaker,memory)\n",
    "ms=mw[0]\n",
    "print(\"Meaning chosen by speaker:\")\n",
    "print(ms)\n",
    "print (\" \")\n",
    "\n",
    "w=mw[1]\n",
    "print(\"Word uttered by speaker:\")\n",
    "print(w)\n",
    "print (\" \")\n",
    "\n",
    "mh=teststrat.guess_m(w,voctest_hearer,memory)\n",
    "print(\"Meaning interpreted by hearer:\")\n",
    "print(mh)\n",
    "print (\" \")\n",
    "\n",
    "if (ms==mh):\n",
    "    print(\"Success!\")\n",
    "else:\n",
    "    print(\"Failure!\")\n",
    "print(\" \")\n",
    "\n",
    "teststrat.update_speaker(ms,w,mh,voctest_speaker,memory)\n",
    "teststrat.update_hearer(ms,w,mh,voctest_hearer,memory)\n",
    "\n",
    "print(\"Updated vocabulary of the speaker:\")\n",
    "print(voctest_speaker)\n",
    "print(\" \")\n",
    "print(\"Updated vocabulary of the hearer:\")\n",
    "print(voctest_hearer)"
   ]
  },
  {
   "cell_type": "markdown",
   "metadata": {},
   "source": [
    "\n",
    "\n",
    "Here you can modify by hand the 2 vocabularies before re-executing the code:"
   ]
  },
  {
   "cell_type": "code",
   "execution_count": 19,
   "metadata": {
    "collapsed": false
   },
   "outputs": [
    {
     "name": "stdout",
     "output_type": "stream",
     "text": [
      "Speaker:\n",
      "[[ 0.  0.  0.  0.  0.  0.  0.  0.  0.  0.]\n",
      " [ 0.  0.  0.  0.  0.  0.  0.  0.  0.  0.]\n",
      " [ 0.  0.  0.  0.  0.  0.  0.  0.  0.  0.]\n",
      " [ 0.  0.  0.  0.  0.  0.  0.  0.  0.  1.]\n",
      " [ 0.  0.  0.  0.  0.  0.  0.  0.  0.  0.]]\n",
      " \n",
      "Hearer:\n",
      "[[ 0.  0.  0.  0.  0.  0.  0.  0.  0.  0.]\n",
      " [ 0.  0.  0.  0.  0.  0.  0.  0.  0.  0.]\n",
      " [ 0.  0.  0.  0.  0.  0.  0.  0.  0.  0.]\n",
      " [ 0.  0.  0.  0.  0.  0.  0.  0.  0.  1.]\n",
      " [ 0.  0.  0.  0.  0.  0.  0.  0.  0.  0.]]\n"
     ]
    }
   ],
   "source": [
    "#voctest_speaker.add(0,0,1)\n",
    "#voctest_speaker.add(0,0,0)\n",
    "\n",
    "#voctest_hearer.add(0,0,1)\n",
    "#voctest_hearer.add(0,0,0)\n",
    "\n",
    "print(\"Speaker:\")\n",
    "print(voctest_speaker)\n",
    "print(\" \")\n",
    "print(\"Hearer:\")\n",
    "print(voctest_hearer)"
   ]
  },
  {
   "cell_type": "markdown",
   "metadata": {},
   "source": [
    "Appromximation of the probability density of the different procedures of the strategy:"
   ]
  },
  {
   "cell_type": "code",
   "execution_count": 24,
   "metadata": {
    "collapsed": false
   },
   "outputs": [
    {
     "name": "stdout",
     "output_type": "stream",
     "text": [
      "[[ 0.  0.  0.  0.  0.  0.  0.  0.  0.  0.]\n",
      " [ 0.  0.  0.  0.  0.  0.  0.  0.  0.  0.]\n",
      " [ 0.  0.  0.  0.  0.  0.  0.  0.  0.  0.]\n",
      " [ 0.  0.  0.  0.  0.  0.  0.  0.  0.  1.]\n",
      " [ 0.  0.  0.  0.  0.  0.  0.  0.  0.  0.]]\n"
     ]
    },
    {
     "data": {
      "image/png": "[encoded data removed]",
      "text/plain": [
       "<matplotlib.figure.Figure at 0xb0170b8c>"
      ]
     },
     "metadata": {},
     "output_type": "display_data"
    }
   ],
   "source": [
    "voctest_speaker.visual()\n",
    "teststrat.visual(voc=voctest_speaker,vtype=\"pick_mw\",iter=500)"
   ]
  },
  {
   "cell_type": "markdown",
   "metadata": {},
   "source": [
    "##Agents\n",
    "Agents are objects having a strategy, a vocabulary, and an ID (this last attribute is not important for the moment)."
   ]
  },
  {
   "cell_type": "code",
   "execution_count": 19,
   "metadata": {
    "collapsed": false
   },
   "outputs": [],
   "source": [
    "import lib.ngagent as ngagent"
   ]
  },
  {
   "cell_type": "markdown",
   "metadata": {
    "collapsed": true
   },
   "source": [
    "Let's create an agent. Vocabulary and strategy are created at the same time."
   ]
  },
  {
   "cell_type": "code",
   "execution_count": 20,
   "metadata": {
    "collapsed": false
   },
   "outputs": [
    {
     "data": {
      "text/plain": [
       "<lib.ngagent.Agent at 0xb198670c>"
      ]
     },
     "execution_count": 20,
     "metadata": {},
     "output_type": "execute_result"
    }
   ],
   "source": [
    "M=5\n",
    "W=10\n",
    "voctype=\"sparse\"\n",
    "strat={\"strattype\":\"naivereal\"}\n",
    "id_ag=\"test\"\n",
    "\n",
    "testagent=ngagent.Agent(voctype,strat,id_ag,M,W)\n",
    "testagent"
   ]
  },
  {
   "cell_type": "code",
   "execution_count": 21,
   "metadata": {
    "collapsed": false
   },
   "outputs": [
    {
     "name": "stdout",
     "output_type": "stream",
     "text": [
      "[[ 0.  0.  0.  0.  0.  0.  0.  0.  0.  0.]\n",
      " [ 0.  0.  0.  0.  0.  0.  0.  0.  0.  0.]\n",
      " [ 0.  0.  0.  0.  0.  0.  0.  0.  0.  0.]\n",
      " [ 0.  0.  0.  0.  0.  0.  0.  0.  0.  0.]\n",
      " [ 0.  0.  0.  0.  0.  0.  0.  0.  0.  0.]]\n"
     ]
    }
   ],
   "source": [
    "print(testagent)"
   ]
  },
  {
   "cell_type": "code",
   "execution_count": null,
   "metadata": {
    "collapsed": true
   },
   "outputs": [],
   "source": []
  },
  {
   "cell_type": "markdown",
   "metadata": {},
   "source": [
    "##Populations"
   ]
  },
  {
   "cell_type": "code",
   "execution_count": 31,
   "metadata": {
    "collapsed": true
   },
   "outputs": [],
   "source": [
    "import lib.ngagent as ngagent"
   ]
  },
  {
   "cell_type": "markdown",
   "metadata": {
    "collapsed": true
   },
   "source": [
    "Let's create a population. Agent creation is here dealt with automatically."
   ]
  },
  {
   "cell_type": "code",
   "execution_count": 32,
   "metadata": {
    "collapsed": false
   },
   "outputs": [
    {
     "data": {
      "text/plain": [
       "<lib.ngagent.Population at 0xb19a730c>"
      ]
     },
     "execution_count": 32,
     "metadata": {},
     "output_type": "execute_result"
    }
   ],
   "source": [
    "M=5\n",
    "W=10\n",
    "voctype=\"sparse\"\n",
    "strat={\"strattype\":\"naivereal\"}\n",
    "nb_ag=4\n",
    "\n",
    "testpop=ngagent.Population(voctype,strat,nb_ag,M,W)\n",
    "testpop"
   ]
  },
  {
   "cell_type": "code",
   "execution_count": 33,
   "metadata": {
    "collapsed": false
   },
   "outputs": [
    {
     "name": "stdout",
     "output_type": "stream",
     "text": [
      "nbagent: 4\n",
      "[[ 0.  0.  0.  0.  0.  0.  0.  0.  0.  0.]\n",
      " [ 0.  0.  0.  0.  0.  0.  0.  0.  0.  0.]\n",
      " [ 0.  0.  0.  0.  0.  0.  0.  0.  0.  0.]\n",
      " [ 0.  0.  0.  0.  0.  0.  0.  0.  0.  0.]\n",
      " [ 0.  0.  0.  0.  0.  0.  0.  0.  0.  0.]]\n",
      "\n",
      "Agent ID: 0\n",
      "[[ 0.  0.  0.  0.  0.  0.  0.  0.  0.  0.]\n",
      " [ 0.  0.  0.  0.  0.  0.  0.  0.  0.  0.]\n",
      " [ 0.  0.  0.  0.  0.  0.  0.  0.  0.  0.]\n",
      " [ 0.  0.  0.  0.  0.  0.  0.  0.  0.  0.]\n",
      " [ 0.  0.  0.  0.  0.  0.  0.  0.  0.  0.]]\n",
      "Agent ID: 1\n",
      "[[ 0.  0.  0.  0.  0.  0.  0.  0.  0.  0.]\n",
      " [ 0.  0.  0.  0.  0.  0.  0.  0.  0.  0.]\n",
      " [ 0.  0.  0.  0.  0.  0.  0.  0.  0.  0.]\n",
      " [ 0.  0.  0.  0.  0.  0.  0.  0.  0.  0.]\n",
      " [ 0.  0.  0.  0.  0.  0.  0.  0.  0.  0.]]\n",
      "Agent ID: 2\n",
      "[[ 0.  0.  0.  0.  0.  0.  0.  0.  0.  0.]\n",
      " [ 0.  0.  0.  0.  0.  0.  0.  0.  0.  0.]\n",
      " [ 0.  0.  0.  0.  0.  0.  0.  0.  0.  0.]\n",
      " [ 0.  0.  0.  0.  0.  0.  0.  0.  0.  0.]\n",
      " [ 0.  0.  0.  0.  0.  0.  0.  0.  0.  0.]]\n",
      "Agent ID: 3\n",
      "[[ 0.  0.  0.  0.  0.  0.  0.  0.  0.  0.]\n",
      " [ 0.  0.  0.  0.  0.  0.  0.  0.  0.  0.]\n",
      " [ 0.  0.  0.  0.  0.  0.  0.  0.  0.  0.]\n",
      " [ 0.  0.  0.  0.  0.  0.  0.  0.  0.  0.]\n",
      " [ 0.  0.  0.  0.  0.  0.  0.  0.  0.  0.]]\n",
      "\n"
     ]
    }
   ],
   "source": [
    "print(testpop)\n",
    "print(\"\")\n",
    "print(testpop.repr(\"all\"))"
   ]
  },
  {
   "cell_type": "code",
   "execution_count": 34,
   "metadata": {
    "collapsed": true
   },
   "outputs": [],
   "source": [
    "testpop.play_game(10)"
   ]
  },
  {
   "cell_type": "code",
   "execution_count": 35,
   "metadata": {
    "collapsed": false
   },
   "outputs": [
    {
     "name": "stdout",
     "output_type": "stream",
     "text": [
      "nbagent: 4\n",
      "[[ 0.    0.    0.    0.    0.    0.    0.    0.75  0.    0.  ]\n",
      " [ 0.5   0.    0.    0.    0.75  0.    0.    0.    0.    0.  ]\n",
      " [ 0.    0.5   0.    0.    0.    0.    0.    0.    0.    0.  ]\n",
      " [ 0.    0.    0.75  0.    0.    0.    0.    0.    0.    0.  ]\n",
      " [ 0.    0.    0.    0.    0.    0.5   0.    0.    0.    0.  ]]\n",
      "\n",
      "Agent ID: 0\n",
      "[[ 0.  0.  0.  0.  0.  0.  0.  0.  0.  0.]\n",
      " [ 1.  0.  0.  0.  0.  0.  0.  0.  0.  0.]\n",
      " [ 0.  1.  0.  0.  0.  0.  0.  0.  0.  0.]\n",
      " [ 0.  0.  1.  0.  0.  0.  0.  0.  0.  0.]\n",
      " [ 0.  0.  0.  0.  0.  0.  0.  0.  0.  0.]]\n",
      "Agent ID: 1\n",
      "[[ 0.  0.  0.  0.  0.  0.  0.  1.  0.  0.]\n",
      " [ 0.  0.  0.  0.  1.  0.  0.  0.  0.  0.]\n",
      " [ 0.  0.  0.  0.  0.  0.  0.  0.  0.  0.]\n",
      " [ 0.  0.  1.  0.  0.  0.  0.  0.  0.  0.]\n",
      " [ 0.  0.  0.  0.  0.  1.  0.  0.  0.  0.]]\n",
      "Agent ID: 2\n",
      "[[ 0.  0.  0.  0.  0.  0.  0.  1.  0.  0.]\n",
      " [ 1.  0.  0.  0.  1.  0.  0.  0.  0.  0.]\n",
      " [ 0.  1.  0.  0.  0.  0.  0.  0.  0.  0.]\n",
      " [ 0.  0.  1.  0.  0.  0.  0.  0.  0.  0.]\n",
      " [ 0.  0.  0.  0.  0.  1.  0.  0.  0.  0.]]\n",
      "Agent ID: 3\n",
      "[[ 0.  0.  0.  0.  0.  0.  0.  1.  0.  0.]\n",
      " [ 0.  0.  0.  0.  1.  0.  0.  0.  0.  0.]\n",
      " [ 0.  0.  0.  0.  0.  0.  0.  0.  0.  0.]\n",
      " [ 0.  0.  0.  0.  0.  0.  0.  0.  0.  0.]\n",
      " [ 0.  0.  0.  0.  0.  0.  0.  0.  0.  0.]]\n",
      "\n"
     ]
    }
   ],
   "source": [
    "print(testpop)\n",
    "print(\"\")\n",
    "print(testpop.repr(\"all\"))"
   ]
  },
  {
   "cell_type": "markdown",
   "metadata": {},
   "source": [
    "## Experiments"
   ]
  },
  {
   "cell_type": "code",
   "execution_count": 26,
   "metadata": {
    "collapsed": true
   },
   "outputs": [],
   "source": [
    "import lib.ngsimu as ngsimu"
   ]
  },
  {
   "cell_type": "markdown",
   "metadata": {
    "collapsed": true
   },
   "source": [
    "Let's create an experiment"
   ]
  },
  {
   "cell_type": "code",
   "execution_count": 27,
   "metadata": {
    "collapsed": false
   },
   "outputs": [
    {
     "data": {
      "text/plain": [
       "<lib.ngsimu.Experiment at 0xb1989b2c>"
      ]
     },
     "execution_count": 27,
     "metadata": {},
     "output_type": "execute_result"
    }
   ],
   "source": [
    "M=5\n",
    "W=10\n",
    "voctype=\"sparse\"\n",
    "strat={\"strattype\":\"naivereal\"}\n",
    "nb_ag=4\n",
    "T_step=10\n",
    "\n",
    "testexp=ngsimu.Experiment(voctype,strat,nb_ag,M,W,T_step)\n",
    "testexp"
   ]
  },
  {
   "cell_type": "code",
   "execution_count": 28,
   "metadata": {
    "collapsed": false
   },
   "outputs": [
    {
     "name": "stdout",
     "output_type": "stream",
     "text": [
      "T: 0\n",
      "nbagent: 4\n",
      "[[ 0.  0.  0.  0.  0.  0.  0.  0.  0.  0.]\n",
      " [ 0.  0.  0.  0.  0.  0.  0.  0.  0.  0.]\n",
      " [ 0.  0.  0.  0.  0.  0.  0.  0.  0.  0.]\n",
      " [ 0.  0.  0.  0.  0.  0.  0.  0.  0.  0.]\n",
      " [ 0.  0.  0.  0.  0.  0.  0.  0.  0.  0.]]\n"
     ]
    }
   ],
   "source": [
    "print(testexp)"
   ]
  },
  {
   "cell_type": "code",
   "execution_count": 29,
   "metadata": {
    "collapsed": true
   },
   "outputs": [],
   "source": [
    "testexp.continue_exp(100)"
   ]
  },
  {
   "cell_type": "code",
   "execution_count": 30,
   "metadata": {
    "collapsed": false
   },
   "outputs": [
    {
     "name": "stdout",
     "output_type": "stream",
     "text": [
      "T: 100\n",
      "nbagent: 4\n",
      "[[ 0.    1.    0.    0.    0.    0.    0.    0.    0.    0.  ]\n",
      " [ 0.    0.    0.    0.    0.    0.    1.    0.    0.    0.  ]\n",
      " [ 0.    0.    0.    0.    0.    0.    0.    0.    1.    0.  ]\n",
      " [ 0.    0.    0.25  1.    0.    0.    0.    0.    0.    0.  ]\n",
      " [ 0.    0.    0.    0.    0.    0.    0.    1.    0.    0.  ]]\n"
     ]
    }
   ],
   "source": [
    "print(testexp)"
   ]
  },
  {
   "cell_type": "code",
   "execution_count": null,
   "metadata": {
    "collapsed": true
   },
   "outputs": [],
   "source": []
  },
  {
   "cell_type": "code",
   "execution_count": null,
   "metadata": {
    "collapsed": true
   },
   "outputs": [],
   "source": []
  },
  {
   "cell_type": "code",
   "execution_count": null,
   "metadata": {
    "collapsed": true
   },
   "outputs": [],
   "source": []
  },
  {
   "cell_type": "code",
   "execution_count": null,
   "metadata": {
    "collapsed": true
   },
   "outputs": [],
   "source": []
  }
 ],
 "metadata": {
  "kernelspec": {
   "display_name": "Python 2",
   "language": "python",
   "name": "python2"
  },
  "language_info": {
   "codemirror_mode": {
    "name": "ipython",
    "version": 2
   },
   "file_extension": ".py",
   "mimetype": "text/x-python",
   "name": "python",
   "nbconvert_exporter": "python",
   "pygments_lexer": "ipython2",
   "version": "2.7.6"
  }
 },
 "nbformat": 4,
 "nbformat_minor": 0
}
