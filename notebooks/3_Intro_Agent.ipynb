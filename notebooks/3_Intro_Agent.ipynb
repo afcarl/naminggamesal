{
 "cells": [
  {
   "cell_type": "code",
   "execution_count": 1,
   "metadata": {
    "collapsed": true
   },
   "outputs": [],
   "source": [
    "import sys\n",
    "import seaborn as sns\n",
    "sys.path.append(\"..\")\n",
    "%matplotlib inline\n",
    "sns.set(rc={'image.cmap': 'Purples_r'})"
   ]
  },
  {
   "cell_type": "markdown",
   "metadata": {},
   "source": [
    "##Agents\n",
    "Agents are objects having a strategy, a vocabulary, and an ID (this last attribute is not important for the moment)."
   ]
  },
  {
   "cell_type": "code",
   "execution_count": 2,
   "metadata": {
    "collapsed": false
   },
   "outputs": [],
   "source": [
    "import lib.ngagent as ngagent"
   ]
  },
  {
   "cell_type": "markdown",
   "metadata": {
    "collapsed": true
   },
   "source": [
    "Let's create an agent. Vocabulary and strategy are created at the same time."
   ]
  },
  {
   "cell_type": "code",
   "execution_count": 3,
   "metadata": {
    "collapsed": false
   },
   "outputs": [
    {
     "data": {
      "text/plain": [
       "<lib.ngagent_2.agent.Agent at 0xaeaf436c>"
      ]
     },
     "execution_count": 3,
     "metadata": {},
     "output_type": "execute_result"
    }
   ],
   "source": [
    "ag_cfg = {\n",
    "    'agent_id':'test',\n",
    "    'voc_cfg':{\n",
    "        'voc_type':'sparse_matrix',\n",
    "        'M':5,\n",
    "        'W':10\n",
    "        },\n",
    "    'strat_cfg':{\n",
    "        'strat_type':'naive_real'\n",
    "        }\n",
    "    }\n",
    "\n",
    "testagent=ngagent.Agent(**ag_cfg)\n",
    "testagent"
   ]
  },
  {
   "cell_type": "code",
   "execution_count": 4,
   "metadata": {
    "collapsed": false
   },
   "outputs": [
    {
     "name": "stdout",
     "output_type": "stream",
     "text": [
      "                          Words\n",
      "        [[ 0.  0.  0.  0.  0.  0.  0.  0.  0.  0.]\n",
      "         [ 0.  0.  0.  0.  0.  0.  0.  0.  0.  0.]\n",
      "Meanings [ 0.  0.  0.  0.  0.  0.  0.  0.  0.  0.]\n",
      "         [ 0.  0.  0.  0.  0.  0.  0.  0.  0.  0.]\n",
      "         [ 0.  0.  0.  0.  0.  0.  0.  0.  0.  0.]]\n",
      "\n"
     ]
    }
   ],
   "source": [
    "print(testagent)"
   ]
  },
  {
   "cell_type": "code",
   "execution_count": 5,
   "metadata": {
    "collapsed": false
   },
   "outputs": [
    {
     "name": "stdout",
     "output_type": "stream",
     "text": [
      "                          Words\n",
      "        [[ 1.  0.  0.  0.  0.  0.  0.  0.  1.  0.]\n",
      "         [ 0.  0.  1.  0.  0.  0.  0.  0.  0.  1.]\n",
      "Meanings [ 1.  0.  0.  0.  0.  0.  0.  0.  0.  1.]\n",
      "         [ 0.  0.  0.  0.  0.  1.  1.  0.  1.  0.]\n",
      "         [ 0.  1.  0.  0.  0.  1.  0.  0.  0.  0.]]\n",
      "\n"
     ]
    }
   ],
   "source": [
    "import random\n",
    "M=ag_cfg['voc_cfg']['M']\n",
    "W=ag_cfg['voc_cfg']['W']\n",
    "for i in range(0,15):\n",
    "    k=random.randint(0,M-1)\n",
    "    l=random.randint(0,W-1)\n",
    "    testagent._vocabulary.add(k,l,1)\n",
    "print(testagent)"
   ]
  },
  {
   "cell_type": "markdown",
   "metadata": {},
   "source": [
    "We can get visuals of agent objects from strategy and vocabulary visuals, with same syntax."
   ]
  },
  {
   "cell_type": "code",
   "execution_count": 6,
   "metadata": {
    "collapsed": false
   },
   "outputs": [
    {
     "name": "stdout",
     "output_type": "stream",
     "text": [
      "                          Words\n",
      "        [[ 1.  0.  0.  0.  0.  0.  0.  0.  1.  0.]\n",
      "         [ 0.  0.  1.  0.  0.  0.  0.  0.  0.  1.]\n",
      "Meanings [ 1.  0.  0.  0.  0.  0.  0.  0.  0.  1.]\n",
      "         [ 0.  0.  0.  0.  0.  1.  1.  0.  1.  0.]\n",
      "         [ 0.  1.  0.  0.  0.  1.  0.  0.  0.  0.]]\n",
      "\n"
     ]
    },
    {
     "data": {
      "image/png": "[encoded data removed]",
      "text/plain": [
       "<matplotlib.figure.Figure at 0xaea24fac>"
      ]
     },
     "metadata": {},
     "output_type": "display_data"
    }
   ],
   "source": [
    "testagent.visual()\n",
    "testagent.visual(\"hom\")"
   ]
  },
  {
   "cell_type": "code",
   "execution_count": 7,
   "metadata": {
    "collapsed": false
   },
   "outputs": [
    {
     "name": "stdout",
     "output_type": "stream",
     "text": [
      "                          Words\n",
      "        [[ 1.  0.  0.  0.  0.  0.  0.  0.  1.  0.]\n",
      "         [ 0.  0.  1.  0.  0.  0.  0.  0.  0.  1.]\n",
      "Meanings [ 1.  0.  0.  0.  0.  0.  0.  0.  0.  1.]\n",
      "         [ 0.  0.  0.  0.  0.  1.  1.  0.  1.  0.]\n",
      "         [ 0.  1.  0.  0.  0.  1.  0.  0.  0.  0.]]\n",
      "\n"
     ]
    },
    {
     "data": {
      "image/png": "[encoded data removed]",
      "text/plain": [
       "<matplotlib.figure.Figure at 0xaea0e74c>"
      ]
     },
     "metadata": {},
     "output_type": "display_data"
    }
   ],
   "source": [
    "testagent.visual()\n",
    "testagent.visual(\"syn\")"
   ]
  },
  {
   "cell_type": "code",
   "execution_count": 8,
   "metadata": {
    "collapsed": false
   },
   "outputs": [
    {
     "name": "stdout",
     "output_type": "stream",
     "text": [
      "                          Words\n",
      "        [[ 1.  0.  0.  0.  0.  0.  0.  0.  1.  0.]\n",
      "         [ 0.  0.  1.  0.  0.  0.  0.  0.  0.  1.]\n",
      "Meanings [ 1.  0.  0.  0.  0.  0.  0.  0.  0.  1.]\n",
      "         [ 0.  0.  0.  0.  0.  1.  1.  0.  1.  0.]\n",
      "         [ 0.  1.  0.  0.  0.  1.  0.  0.  0.  0.]]\n",
      "\n"
     ]
    },
    {
     "data": {
      "image/png": "[encoded data removed]",
      "text/plain": [
       "<matplotlib.figure.Figure at 0xaea74e8c>"
      ]
     },
     "metadata": {},
     "output_type": "display_data"
    }
   ],
   "source": [
    "testagent.visual()\n",
    "testagent.visual(\"pick_mw\",iterr=500)"
   ]
  },
  {
   "cell_type": "code",
   "execution_count": 9,
   "metadata": {
    "collapsed": false
   },
   "outputs": [
    {
     "name": "stdout",
     "output_type": "stream",
     "text": [
      "                          Words\n",
      "        [[ 1.  0.  0.  0.  0.  0.  0.  0.  1.  0.]\n",
      "         [ 0.  0.  1.  0.  0.  0.  0.  0.  0.  1.]\n",
      "Meanings [ 1.  0.  0.  0.  0.  0.  0.  0.  0.  1.]\n",
      "         [ 0.  0.  0.  0.  0.  1.  1.  0.  1.  0.]\n",
      "         [ 0.  1.  0.  0.  0.  1.  0.  0.  0.  0.]]\n",
      "\n"
     ]
    },
    {
     "data": {
      "image/png": "[encoded data removed]",
      "text/plain": [
       "<matplotlib.figure.Figure at 0xaeaadeac>"
      ]
     },
     "metadata": {},
     "output_type": "display_data"
    }
   ],
   "source": [
    "testagent.visual()\n",
    "testagent.visual(\"guess_m\",iterr=500)"
   ]
  },
  {
   "cell_type": "code",
   "execution_count": 10,
   "metadata": {
    "collapsed": false
   },
   "outputs": [
    {
     "name": "stdout",
     "output_type": "stream",
     "text": [
      "                          Words\n",
      "        [[ 1.  0.  0.  0.  0.  0.  0.  0.  1.  0.]\n",
      "         [ 0.  0.  1.  0.  0.  0.  0.  0.  0.  1.]\n",
      "Meanings [ 1.  0.  0.  0.  0.  0.  0.  0.  0.  1.]\n",
      "         [ 0.  0.  0.  0.  0.  1.  1.  0.  1.  0.]\n",
      "         [ 0.  1.  0.  0.  0.  1.  0.  0.  0.  0.]]\n",
      "\n"
     ]
    },
    {
     "data": {
      "image/png": "[encoded data removed]",
      "text/plain": [
       "<matplotlib.figure.Figure at 0xaeacdb8c>"
      ]
     },
     "metadata": {},
     "output_type": "display_data"
    }
   ],
   "source": [
    "testagent.visual()\n",
    "testagent.visual(\"pick_w\",iterr=500)"
   ]
  },
  {
   "cell_type": "code",
   "execution_count": null,
   "metadata": {
    "collapsed": true
   },
   "outputs": [],
   "source": []
  },
  {
   "cell_type": "code",
   "execution_count": null,
   "metadata": {
    "collapsed": true
   },
   "outputs": [],
   "source": []
  },
  {
   "cell_type": "code",
   "execution_count": null,
   "metadata": {
    "collapsed": true
   },
   "outputs": [],
   "source": []
  }
 ],
 "metadata": {
  "kernelspec": {
   "display_name": "Python 2",
   "language": "python",
   "name": "python2"
  },
  "language_info": {
   "codemirror_mode": {
    "name": "ipython",
    "version": 2
   },
   "file_extension": ".py",
   "mimetype": "text/x-python",
   "name": "python",
   "nbconvert_exporter": "python",
   "pygments_lexer": "ipython2",
   "version": "2.7.6"
  }
 },
 "nbformat": 4,
 "nbformat_minor": 0
}
