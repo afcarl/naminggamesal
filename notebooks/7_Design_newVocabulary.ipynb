{
 "cells": [
  {
   "cell_type": "markdown",
   "metadata": {},
   "source": [
    "#Types of vocabularies: Existing ones, designing new ones"
   ]
  },
  {
   "cell_type": "markdown",
   "metadata": {},
   "source": [
    "Vocabularies are for now directly in ngvoc.py, but the structure will soon change (changing ngvoc to a submodule).\n",
    "\n",
    "For the moment, \"matrix\" and \"sparse\" are available. they both have fixed size (M,W), only difference is how the information is stored (numpy matrix and scipy lil_sparse).\n",
    "\n",
    "To define a vocabulary type, the following things are needed:\n",
    "\n",
    "* def get_known_words\n",
    "* def get_known_meanings\n",
    "* def exists\n",
    "* def get_content\n",
    "* def add\n",
    "* def rm\n",
    "* def get_unknown_words\n",
    "* def get_unknown_meanings\n",
    "* def get_new_unknown_m\n",
    "* def get_new_unknown_w\n",
    "* def get_random_known_m\n",
    "* def get_random_known_w\n",
    "\n",
    "you can add a *visual* method to visualize some aspects of your vocabulary.\n"
   ]
  },
  {
   "cell_type": "markdown",
   "metadata": {},
   "source": [
    "Nous n'avons pas accès au monde directement, mais uniquement aux régularités mathématiques des signaux qui en proviennent. La seule façon de formaliser cela, est via un système de lois.  Toute connaissance du monde se fait donc par un tel système. \"L'échantillon de connaissances\" disponible augmentant au cours du temps, on peut y observer des régularités, donc des lois, de manière de plus en \"précise\". Mais comme cet ensemble ne peut pas être infini, il subsistera toujours une incertitude sur ces lois, ou le systeme de lois le plus pertinent à un moment donné, mais ca ne veut pas dire que la connaissance du \"monde\" est nulle et/ou sans progrès possible, comme une prédictabilité partielle reste possible et affinable."
   ]
  }
 ],
 "metadata": {
  "kernelspec": {
   "display_name": "Python 2",
   "language": "python",
   "name": "python2"
  },
  "language_info": {
   "codemirror_mode": {
    "name": "ipython",
    "version": 2
   },
   "file_extension": ".py",
   "mimetype": "text/x-python",
   "name": "python",
   "nbconvert_exporter": "python",
   "pygments_lexer": "ipython2",
   "version": "2.7.6"
  }
 },
 "nbformat": 4,
 "nbformat_minor": 0
}
